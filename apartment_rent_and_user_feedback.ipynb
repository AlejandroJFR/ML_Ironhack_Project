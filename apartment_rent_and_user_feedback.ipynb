{
 "cells": [
  {
   "cell_type": "code",
   "execution_count": 2,
   "id": "2d3c75ad",
   "metadata": {},
   "outputs": [],
   "source": [
    "import pandas as pd\n",
    "import numpy as np\n",
    "import matplotlib.pyplot as plt\n",
    "import seaborn as sns\n",
    "import overpy\n",
    "from ucimlrepo import fetch_ucirepo "
   ]
  },
  {
   "cell_type": "code",
   "execution_count": 3,
   "id": "90d1a63c",
   "metadata": {},
   "outputs": [
    {
     "name": "stdout",
     "output_type": "stream",
     "text": [
      "{'uci_id': 555, 'name': 'Apartment for Rent Classified', 'repository_url': 'https://archive.ics.uci.edu/dataset/555/apartment+for+rent+classified', 'data_url': 'https://archive.ics.uci.edu/static/public/555/data.csv', 'abstract': 'This is a dataset of classified for apartments for rent in USA.\\n', 'area': 'Business', 'tasks': ['Classification', 'Regression', 'Clustering'], 'characteristics': ['Multivariate'], 'num_instances': 10000, 'num_features': 21, 'feature_types': ['Categorical', 'Integer'], 'demographics': [], 'target_col': None, 'index_col': ['id'], 'has_missing_values': 'no', 'missing_values_symbol': None, 'year_of_dataset_creation': 2019, 'last_updated': 'Mon Feb 26 2024', 'dataset_doi': '10.24432/C5X623', 'creators': [], 'intro_paper': None, 'additional_info': {'summary': \"The dataset contains of 10'000 or 100'000 rows and of 22 columns The data has been cleaned in the way that \\r\\ncolumn price and square_feet never is empty but the dataset is saved as it was created.\\r\\n\\r\\nCan be used for different machine learning tasks such as clustering, classification and also regression for the squares feet column\", 'purpose': None, 'funded_by': None, 'instances_represent': None, 'recommended_data_splits': None, 'sensitive_data': None, 'preprocessing_description': None, 'variable_info': 'id = unique identifier of apartment\\ncategory = category of classified\\ntitle = title text of apartment\\nbody = body text of apartment\\namenities = like AC, basketball,cable, gym, internet access, pool, refrigerator etc.\\nbathrooms = number of bathrooms\\nbedrooms = number of bedrooms\\ncurrency = price in current\\nfee = fee\\nhas_photo = photo of apartment\\npets_allowed = what pets are allowed dogs/cats etc.\\nprice = rental price of apartment\\nprice_display = price converted into display for reader\\nprice_type = price in USD\\nsquare_feet = size of the apartment\\naddress =  where the apartment is located\\ncityname =  where the apartment is located\\nstate =  where the apartment is located\\nlatitude = where the apartment is located\\nlongitude = where the apartment is located\\nsource = origin of classified\\ntime = when classified was created', 'citation': None}}\n",
      "             name     role         type demographic description units  \\\n",
      "0              id       ID      Integer        None        None  None   \n",
      "1        category  Feature  Categorical        None        None  None   \n",
      "2           title  Feature  Categorical        None        None  None   \n",
      "3            body  Feature  Categorical        None        None  None   \n",
      "4       amenities  Feature  Categorical        None        None  None   \n",
      "5       bathrooms  Feature      Integer        None        None  None   \n",
      "6        bedrooms  Feature  Categorical        None        None  None   \n",
      "7        currency  Feature  Categorical        None        None  None   \n",
      "8             fee  Feature  Categorical        None        None  None   \n",
      "9       has_photo  Feature  Categorical        None        None  None   \n",
      "10   pets_allowed  Feature  Categorical        None        None  None   \n",
      "11          price  Feature      Integer        None        None  None   \n",
      "12  price_display  Feature      Integer        None        None  None   \n",
      "13     price_type  Feature  Categorical        None        None  None   \n",
      "14    square_feet  Feature  Categorical        None        None  None   \n",
      "15        address  Feature  Categorical        None        None  None   \n",
      "16       cityname  Feature  Categorical        None        None  None   \n",
      "17          state  Feature      Integer        None        None  None   \n",
      "18       latitude  Feature      Integer        None        None  None   \n",
      "19      longitude  Feature  Categorical        None        None  None   \n",
      "20         source  Feature      Integer        None        None  None   \n",
      "21           time  Feature  Categorical        None        None  None   \n",
      "\n",
      "   missing_values  \n",
      "0              no  \n",
      "1              no  \n",
      "2              no  \n",
      "3              no  \n",
      "4              no  \n",
      "5              no  \n",
      "6              no  \n",
      "7              no  \n",
      "8              no  \n",
      "9              no  \n",
      "10             no  \n",
      "11             no  \n",
      "12             no  \n",
      "13             no  \n",
      "14             no  \n",
      "15             no  \n",
      "16             no  \n",
      "17             no  \n",
      "18             no  \n",
      "19             no  \n",
      "20             no  \n",
      "21             no  \n"
     ]
    },
    {
     "name": "stderr",
     "output_type": "stream",
     "text": [
      "c:\\Users\\aj824\\anaconda3\\envs\\myenv\\Lib\\site-packages\\ucimlrepo\\fetch.py:97: DtypeWarning: Columns (0,5,6,12,14,15) have mixed types. Specify dtype option on import or set low_memory=False.\n",
      "  df = pd.read_csv(data_url)\n"
     ]
    }
   ],
   "source": [
    "# fetch dataset \n",
    "apartment_for_rent_classified = fetch_ucirepo(id=555) \n",
    "  \n",
    "# data (as pandas dataframes) \n",
    "apartment_data = apartment_for_rent_classified.data.features \n",
    "apartment_target = apartment_for_rent_classified.data.targets \n",
    "  \n",
    "# metadata \n",
    "print(apartment_for_rent_classified.metadata) \n",
    "  \n",
    "# variable information \n",
    "print(apartment_for_rent_classified.variables) \n"
   ]
  },
  {
   "cell_type": "code",
   "execution_count": 4,
   "id": "bbcfb37c",
   "metadata": {},
   "outputs": [
    {
     "name": "stdout",
     "output_type": "stream",
     "text": [
      "<class 'pandas.core.frame.DataFrame'>\n",
      "RangeIndex: 99826 entries, 0 to 99825\n",
      "Data columns (total 21 columns):\n",
      " #   Column         Non-Null Count  Dtype  \n",
      "---  ------         --------------  -----  \n",
      " 0   category       99826 non-null  object \n",
      " 1   title          99826 non-null  object \n",
      " 2   body           99826 non-null  object \n",
      " 3   amenities      83749 non-null  object \n",
      " 4   bathrooms      99760 non-null  object \n",
      " 5   bedrooms       99699 non-null  object \n",
      " 6   currency       99822 non-null  object \n",
      " 7   fee            99823 non-null  object \n",
      " 8   has_photo      99823 non-null  object \n",
      " 9   pets_allowed   39192 non-null  object \n",
      " 10  price          99821 non-null  float64\n",
      " 11  price_display  99820 non-null  object \n",
      " 12  price_type     99823 non-null  object \n",
      " 13  square_feet    99823 non-null  object \n",
      " 14  address        7946 non-null   object \n",
      " 15  cityname       99521 non-null  object \n",
      " 16  state          99521 non-null  object \n",
      " 17  latitude       99797 non-null  float64\n",
      " 18  longitude      99795 non-null  float64\n",
      " 19  source         99820 non-null  object \n",
      " 20  time           99820 non-null  float64\n",
      "dtypes: float64(4), object(17)\n",
      "memory usage: 16.0+ MB\n"
     ]
    }
   ],
   "source": [
    "apartment_data.info()"
   ]
  },
  {
   "cell_type": "markdown",
   "id": "e777f75c",
   "metadata": {},
   "source": [
    "### Apartment Data"
   ]
  },
  {
   "cell_type": "code",
   "execution_count": 5,
   "id": "f5285da1",
   "metadata": {
    "scrolled": false
   },
   "outputs": [
    {
     "data": {
      "text/plain": [
       "category          object\n",
       "title             object\n",
       "body              object\n",
       "amenities         object\n",
       "bathrooms         object\n",
       "bedrooms          object\n",
       "currency          object\n",
       "fee               object\n",
       "has_photo         object\n",
       "pets_allowed      object\n",
       "price            float64\n",
       "price_display     object\n",
       "price_type        object\n",
       "square_feet       object\n",
       "address           object\n",
       "cityname          object\n",
       "state             object\n",
       "latitude         float64\n",
       "longitude        float64\n",
       "source            object\n",
       "time             float64\n",
       "dtype: object"
      ]
     },
     "execution_count": 5,
     "metadata": {},
     "output_type": "execute_result"
    }
   ],
   "source": [
    "apartment_data.dtypes"
   ]
  },
  {
   "cell_type": "markdown",
   "id": "ac5e5e7c",
   "metadata": {},
   "source": [
    "### Change columns to numerical (the ones we want to use)?"
   ]
  },
  {
   "cell_type": "code",
   "execution_count": 6,
   "id": "43f7f4bb",
   "metadata": {
    "scrolled": false
   },
   "outputs": [
    {
     "data": {
      "text/plain": [
       "category             0\n",
       "title                0\n",
       "body                 0\n",
       "amenities        16077\n",
       "bathrooms           66\n",
       "bedrooms           127\n",
       "currency             4\n",
       "fee                  3\n",
       "has_photo            3\n",
       "pets_allowed     60634\n",
       "price                5\n",
       "price_display        6\n",
       "price_type           3\n",
       "square_feet          3\n",
       "address          91880\n",
       "cityname           305\n",
       "state              305\n",
       "latitude            29\n",
       "longitude           31\n",
       "source               6\n",
       "time                 6\n",
       "dtype: int64"
      ]
     },
     "execution_count": 6,
     "metadata": {},
     "output_type": "execute_result"
    }
   ],
   "source": [
    "apartment_data.isna().sum()"
   ]
  },
  {
   "cell_type": "markdown",
   "id": "3c3ba9d3",
   "metadata": {},
   "source": [
    "### Cleaning: drop any columns that will not be used, decide what to do with null values, try to make any visualizations"
   ]
  },
  {
   "cell_type": "code",
   "execution_count": 7,
   "id": "dfee1325",
   "metadata": {},
   "outputs": [
    {
     "name": "stderr",
     "output_type": "stream",
     "text": [
      "C:\\Users\\aj824\\AppData\\Local\\Temp\\ipykernel_12396\\65273342.py:1: SettingWithCopyWarning: \n",
      "A value is trying to be set on a copy of a slice from a DataFrame\n",
      "\n",
      "See the caveats in the documentation: https://pandas.pydata.org/pandas-docs/stable/user_guide/indexing.html#returning-a-view-versus-a-copy\n",
      "  apartment_data.dropna(subset=['latitude', 'longitude'], inplace=True)\n"
     ]
    }
   ],
   "source": [
    "apartment_data.dropna(subset=['latitude', 'longitude'], inplace=True)"
   ]
  },
  {
   "cell_type": "code",
   "execution_count": 8,
   "id": "c6ac33d8",
   "metadata": {
    "scrolled": true
   },
   "outputs": [
    {
     "data": {
      "text/plain": [
       "84"
      ]
     },
     "execution_count": 8,
     "metadata": {},
     "output_type": "execute_result"
    }
   ],
   "source": [
    "apartment_data.duplicated().sum()"
   ]
  },
  {
   "cell_type": "code",
   "execution_count": 9,
   "id": "827b017a",
   "metadata": {
    "scrolled": true
   },
   "outputs": [
    {
     "name": "stderr",
     "output_type": "stream",
     "text": [
      "C:\\Users\\aj824\\AppData\\Local\\Temp\\ipykernel_12396\\45068775.py:1: SettingWithCopyWarning: \n",
      "A value is trying to be set on a copy of a slice from a DataFrame\n",
      "\n",
      "See the caveats in the documentation: https://pandas.pydata.org/pandas-docs/stable/user_guide/indexing.html#returning-a-view-versus-a-copy\n",
      "  apartment_data.drop_duplicates(inplace=True)\n"
     ]
    }
   ],
   "source": [
    "apartment_data.drop_duplicates(inplace=True)"
   ]
  },
  {
   "cell_type": "code",
   "execution_count": 10,
   "id": "cc0b8198",
   "metadata": {},
   "outputs": [
    {
     "name": "stdout",
     "output_type": "stream",
     "text": [
      "0\n"
     ]
    },
    {
     "data": {
      "text/plain": [
       "category             0\n",
       "title                0\n",
       "body                 0\n",
       "amenities        16052\n",
       "bathrooms           63\n",
       "bedrooms           124\n",
       "currency             0\n",
       "fee                  0\n",
       "has_photo            0\n",
       "pets_allowed     60566\n",
       "price                1\n",
       "price_display        1\n",
       "price_type           0\n",
       "square_feet          0\n",
       "address          91769\n",
       "cityname           277\n",
       "state              277\n",
       "latitude             0\n",
       "longitude            0\n",
       "source               0\n",
       "time                 0\n",
       "dtype: int64"
      ]
     },
     "execution_count": 10,
     "metadata": {},
     "output_type": "execute_result"
    }
   ],
   "source": [
    "print(apartment_data.duplicated().sum())\n",
    "apartment_data.isna().sum()"
   ]
  },
  {
   "cell_type": "code",
   "execution_count": 11,
   "id": "f6473a72",
   "metadata": {},
   "outputs": [
    {
     "data": {
      "text/plain": [
       "currency\n",
       "USD    99711\n",
       "Name: count, dtype: int64"
      ]
     },
     "execution_count": 11,
     "metadata": {},
     "output_type": "execute_result"
    }
   ],
   "source": [
    "apartment_data['currency'].value_counts()"
   ]
  },
  {
   "cell_type": "code",
   "execution_count": 12,
   "id": "8f3f8d40",
   "metadata": {},
   "outputs": [
    {
     "name": "stderr",
     "output_type": "stream",
     "text": [
      "C:\\Users\\aj824\\AppData\\Local\\Temp\\ipykernel_12396\\1782923510.py:1: SettingWithCopyWarning: \n",
      "A value is trying to be set on a copy of a slice from a DataFrame\n",
      "\n",
      "See the caveats in the documentation: https://pandas.pydata.org/pandas-docs/stable/user_guide/indexing.html#returning-a-view-versus-a-copy\n",
      "  apartment_data.drop(columns=['title', 'body','amenities', 'currency', 'has_photo', 'pets_allowed', 'address', ], inplace=True)\n"
     ]
    }
   ],
   "source": [
    "apartment_data.drop(columns=['title', 'body','amenities', 'currency', 'has_photo', 'pets_allowed', 'address', ], inplace=True)"
   ]
  },
  {
   "cell_type": "code",
   "execution_count": 13,
   "id": "998e2657",
   "metadata": {},
   "outputs": [
    {
     "data": {
      "text/plain": [
       "NoneType"
      ]
     },
     "execution_count": 13,
     "metadata": {},
     "output_type": "execute_result"
    }
   ],
   "source": [
    "type(apartment_target)"
   ]
  },
  {
   "cell_type": "markdown",
   "id": "e95ab29d",
   "metadata": {},
   "source": [
    "### What is our target? Predict the cost of rent given the location's amenities and transportation access (found via web scrapping and APIs)"
   ]
  },
  {
   "cell_type": "code",
   "execution_count": 14,
   "id": "31d0f28a",
   "metadata": {},
   "outputs": [
    {
     "data": {
      "text/plain": [
       "0        2195.0\n",
       "1        1250.0\n",
       "2        1395.0\n",
       "3        1600.0\n",
       "4         975.0\n",
       "          ...  \n",
       "99821     780.0\n",
       "99822     813.0\n",
       "99823    1325.0\n",
       "99824     931.0\n",
       "99825    1595.0\n",
       "Name: price, Length: 99711, dtype: float64"
      ]
     },
     "execution_count": 14,
     "metadata": {},
     "output_type": "execute_result"
    }
   ],
   "source": [
    "apartment_data['price']"
   ]
  },
  {
   "cell_type": "code",
   "execution_count": 15,
   "id": "465cbbcc",
   "metadata": {},
   "outputs": [
    {
     "data": {
      "text/plain": [
       "0        2195\n",
       "1        1250\n",
       "2        1395\n",
       "3        1600\n",
       "4         975\n",
       "         ... \n",
       "99821     780\n",
       "99822     813\n",
       "99823    1325\n",
       "99824     931\n",
       "99825    1595\n",
       "Name: price_display, Length: 99711, dtype: object"
      ]
     },
     "execution_count": 15,
     "metadata": {},
     "output_type": "execute_result"
    }
   ],
   "source": [
    "apartment_data['price_display']"
   ]
  },
  {
   "cell_type": "code",
   "execution_count": 16,
   "id": "45696a14",
   "metadata": {},
   "outputs": [
    {
     "data": {
      "text/plain": [
       "price_type\n",
       "Monthly           99707\n",
       "Weekly                3\n",
       "Monthly|Weekly        1\n",
       "Name: count, dtype: int64"
      ]
     },
     "execution_count": 16,
     "metadata": {},
     "output_type": "execute_result"
    }
   ],
   "source": [
    "apartment_data['price_type'].value_counts() \n",
    "#Should we drop all that are NOT monthly? Probably..."
   ]
  },
  {
   "cell_type": "code",
   "execution_count": 17,
   "id": "29dcb585",
   "metadata": {
    "scrolled": true
   },
   "outputs": [
    {
     "data": {
      "text/plain": [
       "3691"
      ]
     },
     "execution_count": 17,
     "metadata": {},
     "output_type": "execute_result"
    }
   ],
   "source": [
    "apartment_data['price'].nunique()"
   ]
  },
  {
   "cell_type": "code",
   "execution_count": 18,
   "id": "aec195d5",
   "metadata": {},
   "outputs": [
    {
     "data": {
      "text/plain": [
       "51"
      ]
     },
     "execution_count": 18,
     "metadata": {},
     "output_type": "execute_result"
    }
   ],
   "source": [
    "apartment_data['state'].nunique()"
   ]
  },
  {
   "cell_type": "code",
   "execution_count": 19,
   "id": "6a3c1720",
   "metadata": {},
   "outputs": [],
   "source": [
    "#apartment_data['state'].value_counts().sort_index()"
   ]
  },
  {
   "cell_type": "code",
   "execution_count": 20,
   "id": "f72a9cf2",
   "metadata": {},
   "outputs": [],
   "source": [
    "#50 states + DC"
   ]
  },
  {
   "cell_type": "code",
   "execution_count": 21,
   "id": "9e24fde0",
   "metadata": {},
   "outputs": [
    {
     "data": {
      "text/plain": [
       "2981"
      ]
     },
     "execution_count": 21,
     "metadata": {},
     "output_type": "execute_result"
    }
   ],
   "source": [
    "apartment_data['cityname'].nunique()\n",
    "\n",
    "#Keep because we need it for analysis"
   ]
  },
  {
   "cell_type": "code",
   "execution_count": 22,
   "id": "aaf8f1b3",
   "metadata": {},
   "outputs": [],
   "source": [
    "#Should we convert states to regions?"
   ]
  },
  {
   "cell_type": "code",
   "execution_count": 23,
   "id": "622d3d0f",
   "metadata": {},
   "outputs": [
    {
     "data": {
      "text/plain": [
       "category\n",
       "housing/rent/apartment            99650\n",
       "housing/rent/commercial/retail       42\n",
       "housing/rent                          7\n",
       "housing/rent/home                     4\n",
       "housing/rent/short_term               4\n",
       "housing/rent/condo                    3\n",
       "housing/rent/other                    1\n",
       "Name: count, dtype: int64"
      ]
     },
     "execution_count": 23,
     "metadata": {},
     "output_type": "execute_result"
    }
   ],
   "source": [
    "apartment_data['category'].value_counts()"
   ]
  },
  {
   "cell_type": "code",
   "execution_count": 24,
   "id": "0ef055a1",
   "metadata": {},
   "outputs": [],
   "source": [
    "#Should we remove all that are not rent apartment? Probably..."
   ]
  },
  {
   "cell_type": "code",
   "execution_count": 25,
   "id": "3ac7cacf",
   "metadata": {},
   "outputs": [
    {
     "data": {
      "text/plain": [
       "fee\n",
       "No     99510\n",
       "Yes      201\n",
       "Name: count, dtype: int64"
      ]
     },
     "execution_count": 25,
     "metadata": {},
     "output_type": "execute_result"
    }
   ],
   "source": [
    "apartment_data['fee'].value_counts()"
   ]
  },
  {
   "cell_type": "code",
   "execution_count": 26,
   "id": "8166455b",
   "metadata": {},
   "outputs": [
    {
     "data": {
      "text/plain": [
       "(99650, 14)"
      ]
     },
     "execution_count": 26,
     "metadata": {},
     "output_type": "execute_result"
    }
   ],
   "source": [
    "apartment_data = apartment_data[apartment_data['category'] == 'housing/rent/apartment']\n",
    "apartment_data.shape"
   ]
  },
  {
   "cell_type": "code",
   "execution_count": 27,
   "id": "51d5dc72",
   "metadata": {},
   "outputs": [
    {
     "data": {
      "text/plain": [
       "(99646, 14)"
      ]
     },
     "execution_count": 27,
     "metadata": {},
     "output_type": "execute_result"
    }
   ],
   "source": [
    "apartment_data = apartment_data[apartment_data['price_type'] == 'Monthly']\n",
    "apartment_data.shape"
   ]
  },
  {
   "cell_type": "code",
   "execution_count": 28,
   "id": "6b038b09",
   "metadata": {
    "scrolled": true
   },
   "outputs": [
    {
     "data": {
      "text/html": [
       "<div>\n",
       "<style scoped>\n",
       "    .dataframe tbody tr th:only-of-type {\n",
       "        vertical-align: middle;\n",
       "    }\n",
       "\n",
       "    .dataframe tbody tr th {\n",
       "        vertical-align: top;\n",
       "    }\n",
       "\n",
       "    .dataframe thead th {\n",
       "        text-align: right;\n",
       "    }\n",
       "</style>\n",
       "<table border=\"1\" class=\"dataframe\">\n",
       "  <thead>\n",
       "    <tr style=\"text-align: right;\">\n",
       "      <th></th>\n",
       "      <th>category</th>\n",
       "      <th>bathrooms</th>\n",
       "      <th>bedrooms</th>\n",
       "      <th>fee</th>\n",
       "      <th>price</th>\n",
       "      <th>price_display</th>\n",
       "      <th>price_type</th>\n",
       "      <th>square_feet</th>\n",
       "      <th>cityname</th>\n",
       "      <th>state</th>\n",
       "      <th>latitude</th>\n",
       "      <th>longitude</th>\n",
       "      <th>source</th>\n",
       "      <th>time</th>\n",
       "    </tr>\n",
       "  </thead>\n",
       "  <tbody>\n",
       "    <tr>\n",
       "      <th>0</th>\n",
       "      <td>housing/rent/apartment</td>\n",
       "      <td>1</td>\n",
       "      <td>1</td>\n",
       "      <td>No</td>\n",
       "      <td>2195.0</td>\n",
       "      <td>2195</td>\n",
       "      <td>Monthly</td>\n",
       "      <td>542</td>\n",
       "      <td>Redondo Beach</td>\n",
       "      <td>CA</td>\n",
       "      <td>33.8520</td>\n",
       "      <td>-118.3759</td>\n",
       "      <td>RentLingo</td>\n",
       "      <td>1.577360e+09</td>\n",
       "    </tr>\n",
       "    <tr>\n",
       "      <th>1</th>\n",
       "      <td>housing/rent/apartment</td>\n",
       "      <td>1.5</td>\n",
       "      <td>3</td>\n",
       "      <td>No</td>\n",
       "      <td>1250.0</td>\n",
       "      <td>1250</td>\n",
       "      <td>Monthly</td>\n",
       "      <td>1500</td>\n",
       "      <td>Newport News</td>\n",
       "      <td>VA</td>\n",
       "      <td>37.0867</td>\n",
       "      <td>-76.4941</td>\n",
       "      <td>RentLingo</td>\n",
       "      <td>1.577360e+09</td>\n",
       "    </tr>\n",
       "    <tr>\n",
       "      <th>2</th>\n",
       "      <td>housing/rent/apartment</td>\n",
       "      <td>2</td>\n",
       "      <td>3</td>\n",
       "      <td>No</td>\n",
       "      <td>1395.0</td>\n",
       "      <td>1395</td>\n",
       "      <td>Monthly</td>\n",
       "      <td>1650</td>\n",
       "      <td>Raleigh</td>\n",
       "      <td>NC</td>\n",
       "      <td>35.8230</td>\n",
       "      <td>-78.6438</td>\n",
       "      <td>RentLingo</td>\n",
       "      <td>1.577360e+09</td>\n",
       "    </tr>\n",
       "    <tr>\n",
       "      <th>3</th>\n",
       "      <td>housing/rent/apartment</td>\n",
       "      <td>1</td>\n",
       "      <td>2</td>\n",
       "      <td>No</td>\n",
       "      <td>1600.0</td>\n",
       "      <td>1600</td>\n",
       "      <td>Monthly</td>\n",
       "      <td>820</td>\n",
       "      <td>Vacaville</td>\n",
       "      <td>CA</td>\n",
       "      <td>38.3622</td>\n",
       "      <td>-121.9712</td>\n",
       "      <td>RentLingo</td>\n",
       "      <td>1.577360e+09</td>\n",
       "    </tr>\n",
       "    <tr>\n",
       "      <th>4</th>\n",
       "      <td>housing/rent/apartment</td>\n",
       "      <td>1</td>\n",
       "      <td>1</td>\n",
       "      <td>No</td>\n",
       "      <td>975.0</td>\n",
       "      <td>975</td>\n",
       "      <td>Monthly</td>\n",
       "      <td>624</td>\n",
       "      <td>Albuquerque</td>\n",
       "      <td>NM</td>\n",
       "      <td>35.1038</td>\n",
       "      <td>-106.6110</td>\n",
       "      <td>RentLingo</td>\n",
       "      <td>1.577360e+09</td>\n",
       "    </tr>\n",
       "  </tbody>\n",
       "</table>\n",
       "</div>"
      ],
      "text/plain": [
       "                 category bathrooms bedrooms fee   price price_display  \\\n",
       "0  housing/rent/apartment         1        1  No  2195.0          2195   \n",
       "1  housing/rent/apartment       1.5        3  No  1250.0          1250   \n",
       "2  housing/rent/apartment         2        3  No  1395.0          1395   \n",
       "3  housing/rent/apartment         1        2  No  1600.0          1600   \n",
       "4  housing/rent/apartment         1        1  No   975.0           975   \n",
       "\n",
       "  price_type square_feet       cityname state  latitude  longitude     source  \\\n",
       "0    Monthly         542  Redondo Beach    CA   33.8520  -118.3759  RentLingo   \n",
       "1    Monthly        1500   Newport News    VA   37.0867   -76.4941  RentLingo   \n",
       "2    Monthly        1650        Raleigh    NC   35.8230   -78.6438  RentLingo   \n",
       "3    Monthly         820      Vacaville    CA   38.3622  -121.9712  RentLingo   \n",
       "4    Monthly         624    Albuquerque    NM   35.1038  -106.6110  RentLingo   \n",
       "\n",
       "           time  \n",
       "0  1.577360e+09  \n",
       "1  1.577360e+09  \n",
       "2  1.577360e+09  \n",
       "3  1.577360e+09  \n",
       "4  1.577360e+09  "
      ]
     },
     "execution_count": 28,
     "metadata": {},
     "output_type": "execute_result"
    }
   ],
   "source": [
    "apartment_data.head()"
   ]
  },
  {
   "cell_type": "code",
   "execution_count": 29,
   "id": "09a0c74f",
   "metadata": {},
   "outputs": [],
   "source": [
    "apartment_data.drop(columns=['category', 'fee', 'price_display', 'source','time', 'price_type'], inplace=True)"
   ]
  },
  {
   "cell_type": "code",
   "execution_count": 30,
   "id": "c4445eef",
   "metadata": {},
   "outputs": [
    {
     "data": {
      "text/html": [
       "<div>\n",
       "<style scoped>\n",
       "    .dataframe tbody tr th:only-of-type {\n",
       "        vertical-align: middle;\n",
       "    }\n",
       "\n",
       "    .dataframe tbody tr th {\n",
       "        vertical-align: top;\n",
       "    }\n",
       "\n",
       "    .dataframe thead th {\n",
       "        text-align: right;\n",
       "    }\n",
       "</style>\n",
       "<table border=\"1\" class=\"dataframe\">\n",
       "  <thead>\n",
       "    <tr style=\"text-align: right;\">\n",
       "      <th></th>\n",
       "      <th>bathrooms</th>\n",
       "      <th>bedrooms</th>\n",
       "      <th>price</th>\n",
       "      <th>square_feet</th>\n",
       "      <th>cityname</th>\n",
       "      <th>state</th>\n",
       "      <th>latitude</th>\n",
       "      <th>longitude</th>\n",
       "    </tr>\n",
       "  </thead>\n",
       "  <tbody>\n",
       "    <tr>\n",
       "      <th>0</th>\n",
       "      <td>1</td>\n",
       "      <td>1</td>\n",
       "      <td>2195.0</td>\n",
       "      <td>542</td>\n",
       "      <td>Redondo Beach</td>\n",
       "      <td>CA</td>\n",
       "      <td>33.8520</td>\n",
       "      <td>-118.3759</td>\n",
       "    </tr>\n",
       "    <tr>\n",
       "      <th>1</th>\n",
       "      <td>1.5</td>\n",
       "      <td>3</td>\n",
       "      <td>1250.0</td>\n",
       "      <td>1500</td>\n",
       "      <td>Newport News</td>\n",
       "      <td>VA</td>\n",
       "      <td>37.0867</td>\n",
       "      <td>-76.4941</td>\n",
       "    </tr>\n",
       "    <tr>\n",
       "      <th>2</th>\n",
       "      <td>2</td>\n",
       "      <td>3</td>\n",
       "      <td>1395.0</td>\n",
       "      <td>1650</td>\n",
       "      <td>Raleigh</td>\n",
       "      <td>NC</td>\n",
       "      <td>35.8230</td>\n",
       "      <td>-78.6438</td>\n",
       "    </tr>\n",
       "    <tr>\n",
       "      <th>3</th>\n",
       "      <td>1</td>\n",
       "      <td>2</td>\n",
       "      <td>1600.0</td>\n",
       "      <td>820</td>\n",
       "      <td>Vacaville</td>\n",
       "      <td>CA</td>\n",
       "      <td>38.3622</td>\n",
       "      <td>-121.9712</td>\n",
       "    </tr>\n",
       "    <tr>\n",
       "      <th>4</th>\n",
       "      <td>1</td>\n",
       "      <td>1</td>\n",
       "      <td>975.0</td>\n",
       "      <td>624</td>\n",
       "      <td>Albuquerque</td>\n",
       "      <td>NM</td>\n",
       "      <td>35.1038</td>\n",
       "      <td>-106.6110</td>\n",
       "    </tr>\n",
       "    <tr>\n",
       "      <th>...</th>\n",
       "      <td>...</td>\n",
       "      <td>...</td>\n",
       "      <td>...</td>\n",
       "      <td>...</td>\n",
       "      <td>...</td>\n",
       "      <td>...</td>\n",
       "      <td>...</td>\n",
       "      <td>...</td>\n",
       "    </tr>\n",
       "    <tr>\n",
       "      <th>99641</th>\n",
       "      <td>1.0</td>\n",
       "      <td>1.0</td>\n",
       "      <td>780.0</td>\n",
       "      <td>605</td>\n",
       "      <td>Houston</td>\n",
       "      <td>TX</td>\n",
       "      <td>29.6151</td>\n",
       "      <td>-95.1998</td>\n",
       "    </tr>\n",
       "    <tr>\n",
       "      <th>99642</th>\n",
       "      <td>2.0</td>\n",
       "      <td>2.0</td>\n",
       "      <td>813.0</td>\n",
       "      <td>921</td>\n",
       "      <td>Jacksonville</td>\n",
       "      <td>FL</td>\n",
       "      <td>30.2254</td>\n",
       "      <td>-81.7579</td>\n",
       "    </tr>\n",
       "    <tr>\n",
       "      <th>99643</th>\n",
       "      <td>1.0</td>\n",
       "      <td>1.0</td>\n",
       "      <td>1325.0</td>\n",
       "      <td>650</td>\n",
       "      <td>San Diego</td>\n",
       "      <td>CA</td>\n",
       "      <td>32.7379</td>\n",
       "      <td>-117.0914</td>\n",
       "    </tr>\n",
       "    <tr>\n",
       "      <th>99644</th>\n",
       "      <td>1.0</td>\n",
       "      <td>1.0</td>\n",
       "      <td>931.0</td>\n",
       "      <td>701</td>\n",
       "      <td>Huntersville</td>\n",
       "      <td>NC</td>\n",
       "      <td>35.4158</td>\n",
       "      <td>-80.8451</td>\n",
       "    </tr>\n",
       "    <tr>\n",
       "      <th>99645</th>\n",
       "      <td>1.5</td>\n",
       "      <td>2.0</td>\n",
       "      <td>1595.0</td>\n",
       "      <td>900</td>\n",
       "      <td>San Diego</td>\n",
       "      <td>CA</td>\n",
       "      <td>32.7379</td>\n",
       "      <td>-117.0914</td>\n",
       "    </tr>\n",
       "  </tbody>\n",
       "</table>\n",
       "<p>99646 rows × 8 columns</p>\n",
       "</div>"
      ],
      "text/plain": [
       "      bathrooms bedrooms   price square_feet       cityname state  latitude  \\\n",
       "0             1        1  2195.0         542  Redondo Beach    CA   33.8520   \n",
       "1           1.5        3  1250.0        1500   Newport News    VA   37.0867   \n",
       "2             2        3  1395.0        1650        Raleigh    NC   35.8230   \n",
       "3             1        2  1600.0         820      Vacaville    CA   38.3622   \n",
       "4             1        1   975.0         624    Albuquerque    NM   35.1038   \n",
       "...         ...      ...     ...         ...            ...   ...       ...   \n",
       "99641       1.0      1.0   780.0         605        Houston    TX   29.6151   \n",
       "99642       2.0      2.0   813.0         921   Jacksonville    FL   30.2254   \n",
       "99643       1.0      1.0  1325.0         650      San Diego    CA   32.7379   \n",
       "99644       1.0      1.0   931.0         701   Huntersville    NC   35.4158   \n",
       "99645       1.5      2.0  1595.0         900      San Diego    CA   32.7379   \n",
       "\n",
       "       longitude  \n",
       "0      -118.3759  \n",
       "1       -76.4941  \n",
       "2       -78.6438  \n",
       "3      -121.9712  \n",
       "4      -106.6110  \n",
       "...          ...  \n",
       "99641   -95.1998  \n",
       "99642   -81.7579  \n",
       "99643  -117.0914  \n",
       "99644   -80.8451  \n",
       "99645  -117.0914  \n",
       "\n",
       "[99646 rows x 8 columns]"
      ]
     },
     "execution_count": 30,
     "metadata": {},
     "output_type": "execute_result"
    }
   ],
   "source": [
    "#CLEANED DATA\n",
    "\n",
    "apartment_data.reset_index(drop=True)"
   ]
  },
  {
   "cell_type": "code",
   "execution_count": 31,
   "id": "fe72f8ab",
   "metadata": {},
   "outputs": [
    {
     "data": {
      "text/plain": [
       "bathrooms       object\n",
       "bedrooms        object\n",
       "price          float64\n",
       "square_feet     object\n",
       "cityname        object\n",
       "state           object\n",
       "latitude       float64\n",
       "longitude      float64\n",
       "dtype: object"
      ]
     },
     "execution_count": 31,
     "metadata": {},
     "output_type": "execute_result"
    }
   ],
   "source": [
    "apartment_data.dtypes\n",
    "#Change bathrooms, bedrooms and square_feet to floats"
   ]
  },
  {
   "cell_type": "code",
   "execution_count": 32,
   "id": "bcdfd041",
   "metadata": {},
   "outputs": [
    {
     "data": {
      "text/plain": [
       "square_feet\n",
       "1000    1044\n",
       "900      918\n",
       "800      918\n",
       "700      862\n",
       "750      820\n",
       "        ... \n",
       "364        1\n",
       "2429       1\n",
       "2211       1\n",
       "3412       1\n",
       "2932       1\n",
       "Name: count, Length: 4181, dtype: int64"
      ]
     },
     "execution_count": 32,
     "metadata": {},
     "output_type": "execute_result"
    }
   ],
   "source": [
    "apartment_data['square_feet'].value_counts()"
   ]
  },
  {
   "cell_type": "code",
   "execution_count": 33,
   "id": "2c3f145d",
   "metadata": {},
   "outputs": [
    {
     "data": {
      "text/plain": [
       "bathrooms\n",
       "1.0    56394\n",
       "2.0    36638\n",
       "1.5     3176\n",
       "2.5     2078\n",
       "3.0      889\n",
       "3.5      209\n",
       "4.0      119\n",
       "4.5       42\n",
       "5.0       20\n",
       "6.0        8\n",
       "5.5        4\n",
       "7.0        3\n",
       "8.0        2\n",
       "8.5        1\n",
       "9.0        1\n",
       "7.5        1\n",
       "Name: count, dtype: int64"
      ]
     },
     "execution_count": 33,
     "metadata": {},
     "output_type": "execute_result"
    }
   ],
   "source": [
    "apartment_data['bathrooms'] = pd.to_numeric(apartment_data['bathrooms'])\n",
    "apartment_data['bathrooms'].value_counts()"
   ]
  },
  {
   "cell_type": "code",
   "execution_count": 34,
   "id": "069f59b4",
   "metadata": {},
   "outputs": [
    {
     "data": {
      "text/plain": [
       "bedrooms\n",
       "2.0    46046\n",
       "1.0    40411\n",
       "3.0    10566\n",
       "4.0     1499\n",
       "0.0      661\n",
       "5.0      285\n",
       "6.0       47\n",
       "7.0        4\n",
       "8.0        3\n",
       "9.0        1\n",
       "Name: count, dtype: int64"
      ]
     },
     "execution_count": 34,
     "metadata": {},
     "output_type": "execute_result"
    }
   ],
   "source": [
    "apartment_data['bedrooms'] = pd.to_numeric(apartment_data['bedrooms'])\n",
    "apartment_data['bedrooms'].value_counts()"
   ]
  },
  {
   "cell_type": "code",
   "execution_count": 35,
   "id": "9950e95c",
   "metadata": {},
   "outputs": [],
   "source": [
    "apartment_data['square_feet'] = apartment_data['square_feet'].astype(int)"
   ]
  },
  {
   "cell_type": "code",
   "execution_count": 36,
   "id": "b9e1f707",
   "metadata": {},
   "outputs": [
    {
     "data": {
      "text/plain": [
       "bathrooms      float64\n",
       "bedrooms       float64\n",
       "price          float64\n",
       "square_feet      int32\n",
       "cityname        object\n",
       "state           object\n",
       "latitude       float64\n",
       "longitude      float64\n",
       "dtype: object"
      ]
     },
     "execution_count": 36,
     "metadata": {},
     "output_type": "execute_result"
    }
   ],
   "source": [
    "apartment_data.dtypes"
   ]
  },
  {
   "cell_type": "code",
   "execution_count": 37,
   "id": "509746e4",
   "metadata": {},
   "outputs": [
    {
     "data": {
      "text/plain": [
       "(99646, 8)"
      ]
     },
     "execution_count": 37,
     "metadata": {},
     "output_type": "execute_result"
    }
   ],
   "source": [
    "apartment_data.shape"
   ]
  },
  {
   "cell_type": "code",
   "execution_count": 38,
   "id": "811d3d13",
   "metadata": {
    "scrolled": false
   },
   "outputs": [
    {
     "data": {
      "text/plain": [
       "state\n",
       "TX    11270\n",
       "CA    10328\n",
       "VA     8297\n",
       "NC     6300\n",
       "CO     6282\n",
       "FL     5785\n",
       "MD     5263\n",
       "MA     5034\n",
       "OH     4905\n",
       "GA     4786\n",
       "NJ     4496\n",
       "NV     2816\n",
       "WA     2618\n",
       "AZ     2379\n",
       "LA     1355\n",
       "MO     1202\n",
       "PA     1139\n",
       "TN     1114\n",
       "IL     1036\n",
       "NE     1020\n",
       "KY      996\n",
       "OK      961\n",
       "SC      907\n",
       "KS      899\n",
       "UT      809\n",
       "ND      743\n",
       "NH      735\n",
       "MI      710\n",
       "NY      655\n",
       "AR      597\n",
       "MN      580\n",
       "CT      515\n",
       "IN      509\n",
       "WI      430\n",
       "IA      372\n",
       "AL      354\n",
       "OR      277\n",
       "VT      125\n",
       "RI      119\n",
       "MS      107\n",
       "ID       96\n",
       "DC       93\n",
       "MT       88\n",
       "SD       86\n",
       "AK       58\n",
       "ME       32\n",
       "HI       31\n",
       "NM       24\n",
       "WY       16\n",
       "WV       13\n",
       "DE        7\n",
       "Name: count, dtype: int64"
      ]
     },
     "execution_count": 38,
     "metadata": {},
     "output_type": "execute_result"
    }
   ],
   "source": [
    "apartment_data['state'].value_counts().sort_values(ascending=False)"
   ]
  },
  {
   "cell_type": "code",
   "execution_count": 39,
   "id": "246edcc0",
   "metadata": {},
   "outputs": [],
   "source": [
    "# Define the state to region mapping\n",
    "state_region_map = {\n",
    "    \"Northeast\": [\"CT\", \"ME\", \"MA\", \"NH\", \"RI\", \"VT\", \"NJ\", \"NY\", \"PA\"],\n",
    "    \"Midwest\": [\"IL\", \"IN\", \"MI\", \"OH\", \"WI\", \"IA\", \"KS\", \"MN\", \"MO\", \"NE\", \"ND\", \"SD\"],\n",
    "    \"South\": [\"DE\", \"FL\", \"GA\", \"MD\", \"NC\", \"SC\", \"VA\", \"DC\", \"WV\", \"AL\", \"KY\", \"MS\", \"TN\", \"AR\", \"LA\", \"OK\", \"TX\"],\n",
    "    \"West\": [\"AZ\", \"CO\", \"ID\", \"MT\", \"NV\", \"NM\", \"UT\", \"WY\", \"AK\", \"CA\", \"HI\", \"OR\", \"WA\"]\n",
    "}\n",
    "\n",
    "# Create a reverse lookup dictionary\n",
    "state_to_region_map = {state: region for region, states in state_region_map.items() for state in states}\n",
    "\n",
    "# Function to get region from state\n",
    "def state_to_region(state):\n",
    "    return state_to_region_map.get(state, 'Unknown')\n",
    "\n",
    "# Create a new column 'region' by applying the state_to_region function to each row in the 'state' column\n",
    "apartment_data['region'] = apartment_data['state'].apply(state_to_region)"
   ]
  },
  {
   "cell_type": "code",
   "execution_count": 40,
   "id": "f64550be",
   "metadata": {},
   "outputs": [
    {
     "data": {
      "text/html": [
       "<div>\n",
       "<style scoped>\n",
       "    .dataframe tbody tr th:only-of-type {\n",
       "        vertical-align: middle;\n",
       "    }\n",
       "\n",
       "    .dataframe tbody tr th {\n",
       "        vertical-align: top;\n",
       "    }\n",
       "\n",
       "    .dataframe thead th {\n",
       "        text-align: right;\n",
       "    }\n",
       "</style>\n",
       "<table border=\"1\" class=\"dataframe\">\n",
       "  <thead>\n",
       "    <tr style=\"text-align: right;\">\n",
       "      <th></th>\n",
       "      <th>bathrooms</th>\n",
       "      <th>bedrooms</th>\n",
       "      <th>price</th>\n",
       "      <th>square_feet</th>\n",
       "      <th>cityname</th>\n",
       "      <th>state</th>\n",
       "      <th>latitude</th>\n",
       "      <th>longitude</th>\n",
       "      <th>region</th>\n",
       "    </tr>\n",
       "  </thead>\n",
       "  <tbody>\n",
       "    <tr>\n",
       "      <th>0</th>\n",
       "      <td>1.0</td>\n",
       "      <td>1.0</td>\n",
       "      <td>2195.0</td>\n",
       "      <td>542</td>\n",
       "      <td>Redondo Beach</td>\n",
       "      <td>CA</td>\n",
       "      <td>33.8520</td>\n",
       "      <td>-118.3759</td>\n",
       "      <td>West</td>\n",
       "    </tr>\n",
       "    <tr>\n",
       "      <th>1</th>\n",
       "      <td>1.5</td>\n",
       "      <td>3.0</td>\n",
       "      <td>1250.0</td>\n",
       "      <td>1500</td>\n",
       "      <td>Newport News</td>\n",
       "      <td>VA</td>\n",
       "      <td>37.0867</td>\n",
       "      <td>-76.4941</td>\n",
       "      <td>South</td>\n",
       "    </tr>\n",
       "    <tr>\n",
       "      <th>2</th>\n",
       "      <td>2.0</td>\n",
       "      <td>3.0</td>\n",
       "      <td>1395.0</td>\n",
       "      <td>1650</td>\n",
       "      <td>Raleigh</td>\n",
       "      <td>NC</td>\n",
       "      <td>35.8230</td>\n",
       "      <td>-78.6438</td>\n",
       "      <td>South</td>\n",
       "    </tr>\n",
       "    <tr>\n",
       "      <th>3</th>\n",
       "      <td>1.0</td>\n",
       "      <td>2.0</td>\n",
       "      <td>1600.0</td>\n",
       "      <td>820</td>\n",
       "      <td>Vacaville</td>\n",
       "      <td>CA</td>\n",
       "      <td>38.3622</td>\n",
       "      <td>-121.9712</td>\n",
       "      <td>West</td>\n",
       "    </tr>\n",
       "    <tr>\n",
       "      <th>4</th>\n",
       "      <td>1.0</td>\n",
       "      <td>1.0</td>\n",
       "      <td>975.0</td>\n",
       "      <td>624</td>\n",
       "      <td>Albuquerque</td>\n",
       "      <td>NM</td>\n",
       "      <td>35.1038</td>\n",
       "      <td>-106.6110</td>\n",
       "      <td>West</td>\n",
       "    </tr>\n",
       "    <tr>\n",
       "      <th>...</th>\n",
       "      <td>...</td>\n",
       "      <td>...</td>\n",
       "      <td>...</td>\n",
       "      <td>...</td>\n",
       "      <td>...</td>\n",
       "      <td>...</td>\n",
       "      <td>...</td>\n",
       "      <td>...</td>\n",
       "      <td>...</td>\n",
       "    </tr>\n",
       "    <tr>\n",
       "      <th>99821</th>\n",
       "      <td>1.0</td>\n",
       "      <td>1.0</td>\n",
       "      <td>780.0</td>\n",
       "      <td>605</td>\n",
       "      <td>Houston</td>\n",
       "      <td>TX</td>\n",
       "      <td>29.6151</td>\n",
       "      <td>-95.1998</td>\n",
       "      <td>South</td>\n",
       "    </tr>\n",
       "    <tr>\n",
       "      <th>99822</th>\n",
       "      <td>2.0</td>\n",
       "      <td>2.0</td>\n",
       "      <td>813.0</td>\n",
       "      <td>921</td>\n",
       "      <td>Jacksonville</td>\n",
       "      <td>FL</td>\n",
       "      <td>30.2254</td>\n",
       "      <td>-81.7579</td>\n",
       "      <td>South</td>\n",
       "    </tr>\n",
       "    <tr>\n",
       "      <th>99823</th>\n",
       "      <td>1.0</td>\n",
       "      <td>1.0</td>\n",
       "      <td>1325.0</td>\n",
       "      <td>650</td>\n",
       "      <td>San Diego</td>\n",
       "      <td>CA</td>\n",
       "      <td>32.7379</td>\n",
       "      <td>-117.0914</td>\n",
       "      <td>West</td>\n",
       "    </tr>\n",
       "    <tr>\n",
       "      <th>99824</th>\n",
       "      <td>1.0</td>\n",
       "      <td>1.0</td>\n",
       "      <td>931.0</td>\n",
       "      <td>701</td>\n",
       "      <td>Huntersville</td>\n",
       "      <td>NC</td>\n",
       "      <td>35.4158</td>\n",
       "      <td>-80.8451</td>\n",
       "      <td>South</td>\n",
       "    </tr>\n",
       "    <tr>\n",
       "      <th>99825</th>\n",
       "      <td>1.5</td>\n",
       "      <td>2.0</td>\n",
       "      <td>1595.0</td>\n",
       "      <td>900</td>\n",
       "      <td>San Diego</td>\n",
       "      <td>CA</td>\n",
       "      <td>32.7379</td>\n",
       "      <td>-117.0914</td>\n",
       "      <td>West</td>\n",
       "    </tr>\n",
       "  </tbody>\n",
       "</table>\n",
       "<p>99646 rows × 9 columns</p>\n",
       "</div>"
      ],
      "text/plain": [
       "       bathrooms  bedrooms   price  square_feet       cityname state  \\\n",
       "0            1.0       1.0  2195.0          542  Redondo Beach    CA   \n",
       "1            1.5       3.0  1250.0         1500   Newport News    VA   \n",
       "2            2.0       3.0  1395.0         1650        Raleigh    NC   \n",
       "3            1.0       2.0  1600.0          820      Vacaville    CA   \n",
       "4            1.0       1.0   975.0          624    Albuquerque    NM   \n",
       "...          ...       ...     ...          ...            ...   ...   \n",
       "99821        1.0       1.0   780.0          605        Houston    TX   \n",
       "99822        2.0       2.0   813.0          921   Jacksonville    FL   \n",
       "99823        1.0       1.0  1325.0          650      San Diego    CA   \n",
       "99824        1.0       1.0   931.0          701   Huntersville    NC   \n",
       "99825        1.5       2.0  1595.0          900      San Diego    CA   \n",
       "\n",
       "       latitude  longitude region  \n",
       "0       33.8520  -118.3759   West  \n",
       "1       37.0867   -76.4941  South  \n",
       "2       35.8230   -78.6438  South  \n",
       "3       38.3622  -121.9712   West  \n",
       "4       35.1038  -106.6110   West  \n",
       "...         ...        ...    ...  \n",
       "99821   29.6151   -95.1998  South  \n",
       "99822   30.2254   -81.7579  South  \n",
       "99823   32.7379  -117.0914   West  \n",
       "99824   35.4158   -80.8451  South  \n",
       "99825   32.7379  -117.0914   West  \n",
       "\n",
       "[99646 rows x 9 columns]"
      ]
     },
     "execution_count": 40,
     "metadata": {},
     "output_type": "execute_result"
    }
   ],
   "source": [
    "apartment_data"
   ]
  },
  {
   "cell_type": "code",
   "execution_count": 41,
   "id": "a3498216",
   "metadata": {},
   "outputs": [
    {
     "data": {
      "text/plain": [
       "region\n",
       "South        48205\n",
       "West         25822\n",
       "Northeast    12850\n",
       "Midwest      12492\n",
       "Unknown        277\n",
       "Name: count, dtype: int64"
      ]
     },
     "execution_count": 41,
     "metadata": {},
     "output_type": "execute_result"
    }
   ],
   "source": [
    "apartment_data['region'].value_counts()"
   ]
  },
  {
   "cell_type": "code",
   "execution_count": 42,
   "id": "76985adf",
   "metadata": {},
   "outputs": [
    {
     "data": {
      "text/html": [
       "<div>\n",
       "<style scoped>\n",
       "    .dataframe tbody tr th:only-of-type {\n",
       "        vertical-align: middle;\n",
       "    }\n",
       "\n",
       "    .dataframe tbody tr th {\n",
       "        vertical-align: top;\n",
       "    }\n",
       "\n",
       "    .dataframe thead th {\n",
       "        text-align: right;\n",
       "    }\n",
       "</style>\n",
       "<table border=\"1\" class=\"dataframe\">\n",
       "  <thead>\n",
       "    <tr style=\"text-align: right;\">\n",
       "      <th></th>\n",
       "      <th>bathrooms</th>\n",
       "      <th>bedrooms</th>\n",
       "      <th>price</th>\n",
       "      <th>square_feet</th>\n",
       "      <th>cityname</th>\n",
       "      <th>state</th>\n",
       "      <th>latitude</th>\n",
       "      <th>longitude</th>\n",
       "      <th>region</th>\n",
       "    </tr>\n",
       "  </thead>\n",
       "  <tbody>\n",
       "    <tr>\n",
       "      <th>5340</th>\n",
       "      <td>1.0</td>\n",
       "      <td>2.0</td>\n",
       "      <td>1880.0</td>\n",
       "      <td>1000</td>\n",
       "      <td>NaN</td>\n",
       "      <td>NaN</td>\n",
       "      <td>39.8163</td>\n",
       "      <td>-98.5576</td>\n",
       "      <td>Unknown</td>\n",
       "    </tr>\n",
       "    <tr>\n",
       "      <th>5464</th>\n",
       "      <td>1.0</td>\n",
       "      <td>1.0</td>\n",
       "      <td>1140.0</td>\n",
       "      <td>700</td>\n",
       "      <td>NaN</td>\n",
       "      <td>NaN</td>\n",
       "      <td>39.8163</td>\n",
       "      <td>-98.5576</td>\n",
       "      <td>Unknown</td>\n",
       "    </tr>\n",
       "    <tr>\n",
       "      <th>5501</th>\n",
       "      <td>1.5</td>\n",
       "      <td>1.0</td>\n",
       "      <td>1300.0</td>\n",
       "      <td>903</td>\n",
       "      <td>NaN</td>\n",
       "      <td>NaN</td>\n",
       "      <td>39.8163</td>\n",
       "      <td>-98.5576</td>\n",
       "      <td>Unknown</td>\n",
       "    </tr>\n",
       "    <tr>\n",
       "      <th>5502</th>\n",
       "      <td>1.5</td>\n",
       "      <td>1.0</td>\n",
       "      <td>1045.0</td>\n",
       "      <td>700</td>\n",
       "      <td>NaN</td>\n",
       "      <td>NaN</td>\n",
       "      <td>39.8163</td>\n",
       "      <td>-98.5576</td>\n",
       "      <td>Unknown</td>\n",
       "    </tr>\n",
       "    <tr>\n",
       "      <th>5503</th>\n",
       "      <td>2.5</td>\n",
       "      <td>3.0</td>\n",
       "      <td>4999.0</td>\n",
       "      <td>2414</td>\n",
       "      <td>NaN</td>\n",
       "      <td>NaN</td>\n",
       "      <td>39.8163</td>\n",
       "      <td>-98.5576</td>\n",
       "      <td>Unknown</td>\n",
       "    </tr>\n",
       "    <tr>\n",
       "      <th>...</th>\n",
       "      <td>...</td>\n",
       "      <td>...</td>\n",
       "      <td>...</td>\n",
       "      <td>...</td>\n",
       "      <td>...</td>\n",
       "      <td>...</td>\n",
       "      <td>...</td>\n",
       "      <td>...</td>\n",
       "      <td>...</td>\n",
       "    </tr>\n",
       "    <tr>\n",
       "      <th>80270</th>\n",
       "      <td>1.0</td>\n",
       "      <td>2.0</td>\n",
       "      <td>1500.0</td>\n",
       "      <td>1030</td>\n",
       "      <td>NaN</td>\n",
       "      <td>NaN</td>\n",
       "      <td>38.7904</td>\n",
       "      <td>-122.6052</td>\n",
       "      <td>Unknown</td>\n",
       "    </tr>\n",
       "    <tr>\n",
       "      <th>80271</th>\n",
       "      <td>2.0</td>\n",
       "      <td>3.0</td>\n",
       "      <td>795.0</td>\n",
       "      <td>1420</td>\n",
       "      <td>NaN</td>\n",
       "      <td>NaN</td>\n",
       "      <td>37.8286</td>\n",
       "      <td>-92.2006</td>\n",
       "      <td>Unknown</td>\n",
       "    </tr>\n",
       "    <tr>\n",
       "      <th>80272</th>\n",
       "      <td>2.0</td>\n",
       "      <td>2.0</td>\n",
       "      <td>1025.0</td>\n",
       "      <td>1118</td>\n",
       "      <td>NaN</td>\n",
       "      <td>NaN</td>\n",
       "      <td>37.8286</td>\n",
       "      <td>-92.2006</td>\n",
       "      <td>Unknown</td>\n",
       "    </tr>\n",
       "    <tr>\n",
       "      <th>80274</th>\n",
       "      <td>1.0</td>\n",
       "      <td>2.0</td>\n",
       "      <td>1215.0</td>\n",
       "      <td>781</td>\n",
       "      <td>NaN</td>\n",
       "      <td>NaN</td>\n",
       "      <td>37.2770</td>\n",
       "      <td>-75.9597</td>\n",
       "      <td>Unknown</td>\n",
       "    </tr>\n",
       "    <tr>\n",
       "      <th>80275</th>\n",
       "      <td>1.0</td>\n",
       "      <td>1.0</td>\n",
       "      <td>535.0</td>\n",
       "      <td>640</td>\n",
       "      <td>NaN</td>\n",
       "      <td>NaN</td>\n",
       "      <td>37.8286</td>\n",
       "      <td>-92.2006</td>\n",
       "      <td>Unknown</td>\n",
       "    </tr>\n",
       "  </tbody>\n",
       "</table>\n",
       "<p>277 rows × 9 columns</p>\n",
       "</div>"
      ],
      "text/plain": [
       "       bathrooms  bedrooms   price  square_feet cityname state  latitude  \\\n",
       "5340         1.0       2.0  1880.0         1000      NaN   NaN   39.8163   \n",
       "5464         1.0       1.0  1140.0          700      NaN   NaN   39.8163   \n",
       "5501         1.5       1.0  1300.0          903      NaN   NaN   39.8163   \n",
       "5502         1.5       1.0  1045.0          700      NaN   NaN   39.8163   \n",
       "5503         2.5       3.0  4999.0         2414      NaN   NaN   39.8163   \n",
       "...          ...       ...     ...          ...      ...   ...       ...   \n",
       "80270        1.0       2.0  1500.0         1030      NaN   NaN   38.7904   \n",
       "80271        2.0       3.0   795.0         1420      NaN   NaN   37.8286   \n",
       "80272        2.0       2.0  1025.0         1118      NaN   NaN   37.8286   \n",
       "80274        1.0       2.0  1215.0          781      NaN   NaN   37.2770   \n",
       "80275        1.0       1.0   535.0          640      NaN   NaN   37.8286   \n",
       "\n",
       "       longitude   region  \n",
       "5340    -98.5576  Unknown  \n",
       "5464    -98.5576  Unknown  \n",
       "5501    -98.5576  Unknown  \n",
       "5502    -98.5576  Unknown  \n",
       "5503    -98.5576  Unknown  \n",
       "...          ...      ...  \n",
       "80270  -122.6052  Unknown  \n",
       "80271   -92.2006  Unknown  \n",
       "80272   -92.2006  Unknown  \n",
       "80274   -75.9597  Unknown  \n",
       "80275   -92.2006  Unknown  \n",
       "\n",
       "[277 rows x 9 columns]"
      ]
     },
     "execution_count": 42,
     "metadata": {},
     "output_type": "execute_result"
    }
   ],
   "source": [
    "apartment_data[apartment_data['region']=='Unknown']"
   ]
  },
  {
   "cell_type": "code",
   "execution_count": 43,
   "id": "8c884627",
   "metadata": {},
   "outputs": [],
   "source": [
    "apartment_data = apartment_data[apartment_data['region'] != 'Unknown']"
   ]
  },
  {
   "cell_type": "code",
   "execution_count": 44,
   "id": "0f6f020f",
   "metadata": {},
   "outputs": [
    {
     "data": {
      "text/plain": [
       "region\n",
       "South        48205\n",
       "West         25822\n",
       "Northeast    12850\n",
       "Midwest      12492\n",
       "Name: count, dtype: int64"
      ]
     },
     "execution_count": 44,
     "metadata": {},
     "output_type": "execute_result"
    }
   ],
   "source": [
    "apartment_data['region'].value_counts()"
   ]
  },
  {
   "cell_type": "code",
   "execution_count": 45,
   "id": "25bdef42",
   "metadata": {
    "scrolled": true
   },
   "outputs": [
    {
     "data": {
      "text/plain": [
       "bathrooms       57\n",
       "bedrooms       123\n",
       "price            1\n",
       "square_feet      0\n",
       "cityname         0\n",
       "state            0\n",
       "latitude         0\n",
       "longitude        0\n",
       "region           0\n",
       "dtype: int64"
      ]
     },
     "execution_count": 45,
     "metadata": {},
     "output_type": "execute_result"
    }
   ],
   "source": [
    "apartment_data.isna().sum()"
   ]
  },
  {
   "cell_type": "code",
   "execution_count": 46,
   "id": "661e2f1a",
   "metadata": {
    "scrolled": true
   },
   "outputs": [],
   "source": [
    "apartment_data = apartment_data.dropna()"
   ]
  },
  {
   "cell_type": "code",
   "execution_count": 47,
   "id": "3f1eae0b",
   "metadata": {},
   "outputs": [
    {
     "data": {
      "text/plain": [
       "bathrooms      0\n",
       "bedrooms       0\n",
       "price          0\n",
       "square_feet    0\n",
       "cityname       0\n",
       "state          0\n",
       "latitude       0\n",
       "longitude      0\n",
       "region         0\n",
       "dtype: int64"
      ]
     },
     "execution_count": 47,
     "metadata": {},
     "output_type": "execute_result"
    }
   ],
   "source": [
    "apartment_data.isna().sum()"
   ]
  },
  {
   "cell_type": "markdown",
   "id": "05dbf20e",
   "metadata": {},
   "source": [
    "### API Functions"
   ]
  },
  {
   "cell_type": "code",
   "execution_count": 48,
   "id": "60aa32f9",
   "metadata": {},
   "outputs": [],
   "source": [
    "import nest_asyncio\n",
    "nest_asyncio.apply()\n",
    "\n",
    "import asyncio\n",
    "import overpy\n",
    "\n",
    "sem = asyncio.Semaphore(100)  # adjust the concurrency level here\n",
    "\n",
    "async def get_nearby_hospitals_async(lat, lon, radius=1000):\n",
    "    async with sem:  # acquire the semaphore\n",
    "        api = overpy.Overpass()\n",
    "        query = f\"\"\"\n",
    "        [out:json];\n",
    "        (\n",
    "          node[\"amenity\"=\"hospital\"](around:{radius},{lat},{lon});\n",
    "          way[\"amenity\"=\"hospital\"](around:{radius},{lat},{lon});\n",
    "          relation[\"amenity\"=\"hospital\"](around:{radius},{lat},{lon});\n",
    "        );\n",
    "        out center;\n",
    "        \"\"\"\n",
    "        try:\n",
    "            result = api.query(query)\n",
    "            count = len(result.nodes)\n",
    "            return count\n",
    "        except Exception as e:\n",
    "            print(f\"Error: {e}\")\n",
    "            return 0\n",
    "\n",
    "async def get_nearby_hospitals(df, radius=1000):\n",
    "    tasks = []\n",
    "    for lat, lon in zip(df['latitude'], df['longitude']):\n",
    "        task = asyncio.create_task(get_nearby_hospitals_async(lat, lon, radius))\n",
    "        tasks.append(task)\n",
    "    counts = await asyncio.gather(*tasks)\n",
    "    df['cnt_nearby_hospitals'] = counts\n",
    "    return df\n",
    "\n",
    "def get_nearby_hospitals_sync(df, radius=1000):\n",
    "    return asyncio.run(get_nearby_hospitals(df, radius))"
   ]
  },
  {
   "cell_type": "code",
   "execution_count": 49,
   "id": "1a8596c1",
   "metadata": {},
   "outputs": [],
   "source": [
    "nest_asyncio.apply()\n",
    "\n",
    "sem = asyncio.Semaphore(100)  # adjust the concurrency level here\n",
    "\n",
    "async def get_nearby_schools_async(lat, lon, radius=1000):\n",
    "    async with sem:  # acquire the semaphore\n",
    "        api = overpy.Overpass()\n",
    "        query = f\"\"\"\n",
    "        [out:json];\n",
    "        (\n",
    "          node[\"amenity\"=\"school\"](around:{radius},{lat},{lon});\n",
    "          way[\"amenity\"=\"school\"](around:{radius},{lat},{lon});\n",
    "          relation[\"amenity\"=\"school\"](around:{radius},{lat},{lon});\n",
    "        );\n",
    "        out center;\n",
    "        \"\"\"\n",
    "        try:\n",
    "            result = api.query(query)\n",
    "            count = len(result.nodes)\n",
    "            return count\n",
    "        except Exception as e:\n",
    "            print(f\"Error: {e}\")\n",
    "            return 0\n",
    "\n",
    "async def get_nearby_schools(df, radius=1000):\n",
    "    tasks = []\n",
    "    for lat, lon in zip(df['latitude'], df['longitude']):\n",
    "        task = asyncio.create_task(get_nearby_schools_async(lat, lon, radius))\n",
    "        tasks.append(task)\n",
    "    counts = await asyncio.gather(*tasks)\n",
    "    df['cnt_nearby_school'] = counts\n",
    "    return df\n",
    "\n",
    "def get_nearby_schools_sync(df, radius=1000):\n",
    "    return asyncio.run(get_nearby_schools(df, radius))"
   ]
  },
  {
   "cell_type": "code",
   "execution_count": 50,
   "id": "a2c43318",
   "metadata": {},
   "outputs": [],
   "source": [
    "nest_asyncio.apply()\n",
    "\n",
    "sem = asyncio.Semaphore(100)  # adjust the concurrency level here\n",
    "\n",
    "async def get_nearby_libraries_async(lat, lon, radius=1000):\n",
    "    async with sem:  # acquire the semaphore\n",
    "        api = overpy.Overpass()\n",
    "        query = f\"\"\"\n",
    "        [out:json];\n",
    "        (\n",
    "          node[\"amenity\"=\"library\"](around:{radius},{lat},{lon});\n",
    "          way[\"amenity\"=\"library\"](around:{radius},{lat},{lon});\n",
    "          relation[\"amenity\"=\"library\"](around:{radius},{lat},{lon});\n",
    "        );\n",
    "        out center;\n",
    "        \"\"\"\n",
    "        try:\n",
    "            result = api.query(query)\n",
    "            count = len(result.nodes)\n",
    "            return count\n",
    "        except Exception as e:\n",
    "            print(f\"Error: {e}\")\n",
    "            return 0\n",
    "\n",
    "async def get_nearby_libraries(df, radius=1000):\n",
    "    tasks = []\n",
    "    for lat, lon in zip(df['latitude'], df['longitude']):\n",
    "        task = asyncio.create_task(get_nearby_libraries_async(lat, lon, radius))\n",
    "        tasks.append(task)\n",
    "    counts = await asyncio.gather(*tasks)\n",
    "    df['cnt_nearby_libraries'] = counts\n",
    "    return df\n",
    "\n",
    "def get_nearby_libraries_sync(df, radius=1000):\n",
    "    return asyncio.run(get_nearby_libraries(df, radius))"
   ]
  },
  {
   "cell_type": "code",
   "execution_count": 51,
   "id": "4dd45ca9",
   "metadata": {},
   "outputs": [],
   "source": [
    "florida = apartment_data[apartment_data['state'] == 'FL']"
   ]
  },
  {
   "cell_type": "code",
   "execution_count": 52,
   "id": "a0687094",
   "metadata": {},
   "outputs": [
    {
     "name": "stderr",
     "output_type": "stream",
     "text": [
      "C:\\Users\\aj824\\AppData\\Local\\Temp\\ipykernel_12396\\484448340.py:35: SettingWithCopyWarning: \n",
      "A value is trying to be set on a copy of a slice from a DataFrame.\n",
      "Try using .loc[row_indexer,col_indexer] = value instead\n",
      "\n",
      "See the caveats in the documentation: https://pandas.pydata.org/pandas-docs/stable/user_guide/indexing.html#returning-a-view-versus-a-copy\n",
      "  df['cnt_nearby_hospitals'] = counts\n"
     ]
    }
   ],
   "source": [
    "florida = get_nearby_hospitals_sync(florida)"
   ]
  },
  {
   "cell_type": "code",
   "execution_count": 53,
   "id": "36145d5e",
   "metadata": {},
   "outputs": [
    {
     "name": "stderr",
     "output_type": "stream",
     "text": [
      "C:\\Users\\aj824\\AppData\\Local\\Temp\\ipykernel_12396\\3494308449.py:31: SettingWithCopyWarning: \n",
      "A value is trying to be set on a copy of a slice from a DataFrame.\n",
      "Try using .loc[row_indexer,col_indexer] = value instead\n",
      "\n",
      "See the caveats in the documentation: https://pandas.pydata.org/pandas-docs/stable/user_guide/indexing.html#returning-a-view-versus-a-copy\n",
      "  df['cnt_nearby_school'] = counts\n"
     ]
    }
   ],
   "source": [
    "florida = get_nearby_schools_sync(florida)"
   ]
  },
  {
   "cell_type": "code",
   "execution_count": 54,
   "id": "42c13b0f",
   "metadata": {},
   "outputs": [
    {
     "name": "stderr",
     "output_type": "stream",
     "text": [
      "C:\\Users\\aj824\\AppData\\Local\\Temp\\ipykernel_12396\\2175746675.py:31: SettingWithCopyWarning: \n",
      "A value is trying to be set on a copy of a slice from a DataFrame.\n",
      "Try using .loc[row_indexer,col_indexer] = value instead\n",
      "\n",
      "See the caveats in the documentation: https://pandas.pydata.org/pandas-docs/stable/user_guide/indexing.html#returning-a-view-versus-a-copy\n",
      "  df['cnt_nearby_libraries'] = counts\n"
     ]
    }
   ],
   "source": [
    "florida = get_nearby_libraries_sync(florida)"
   ]
  },
  {
   "cell_type": "code",
   "execution_count": 64,
   "id": "37a4a63b",
   "metadata": {},
   "outputs": [
    {
     "data": {
      "text/html": [
       "<div>\n",
       "<style scoped>\n",
       "    .dataframe tbody tr th:only-of-type {\n",
       "        vertical-align: middle;\n",
       "    }\n",
       "\n",
       "    .dataframe tbody tr th {\n",
       "        vertical-align: top;\n",
       "    }\n",
       "\n",
       "    .dataframe thead th {\n",
       "        text-align: right;\n",
       "    }\n",
       "</style>\n",
       "<table border=\"1\" class=\"dataframe\">\n",
       "  <thead>\n",
       "    <tr style=\"text-align: right;\">\n",
       "      <th></th>\n",
       "      <th>bathrooms</th>\n",
       "      <th>bedrooms</th>\n",
       "      <th>price</th>\n",
       "      <th>square_feet</th>\n",
       "      <th>cityname</th>\n",
       "      <th>state</th>\n",
       "      <th>latitude</th>\n",
       "      <th>longitude</th>\n",
       "      <th>region</th>\n",
       "      <th>cnt_nearby_hospitals</th>\n",
       "      <th>cnt_nearby_school</th>\n",
       "      <th>cnt_nearby_libraries</th>\n",
       "    </tr>\n",
       "  </thead>\n",
       "  <tbody>\n",
       "    <tr>\n",
       "      <th>30</th>\n",
       "      <td>2.0</td>\n",
       "      <td>2.0</td>\n",
       "      <td>1740.0</td>\n",
       "      <td>1600</td>\n",
       "      <td>West Palm Beach</td>\n",
       "      <td>FL</td>\n",
       "      <td>26.7173</td>\n",
       "      <td>-80.1164</td>\n",
       "      <td>South</td>\n",
       "      <td>0</td>\n",
       "      <td>0</td>\n",
       "      <td>1</td>\n",
       "    </tr>\n",
       "    <tr>\n",
       "      <th>54</th>\n",
       "      <td>1.0</td>\n",
       "      <td>1.0</td>\n",
       "      <td>973.0</td>\n",
       "      <td>509</td>\n",
       "      <td>Orlando</td>\n",
       "      <td>FL</td>\n",
       "      <td>28.5163</td>\n",
       "      <td>-81.3644</td>\n",
       "      <td>South</td>\n",
       "      <td>0</td>\n",
       "      <td>0</td>\n",
       "      <td>0</td>\n",
       "    </tr>\n",
       "    <tr>\n",
       "      <th>63</th>\n",
       "      <td>2.0</td>\n",
       "      <td>3.0</td>\n",
       "      <td>1499.0</td>\n",
       "      <td>1544</td>\n",
       "      <td>Jacksonville</td>\n",
       "      <td>FL</td>\n",
       "      <td>30.2989</td>\n",
       "      <td>-81.6324</td>\n",
       "      <td>South</td>\n",
       "      <td>0</td>\n",
       "      <td>0</td>\n",
       "      <td>0</td>\n",
       "    </tr>\n",
       "    <tr>\n",
       "      <th>69</th>\n",
       "      <td>1.0</td>\n",
       "      <td>1.0</td>\n",
       "      <td>1055.0</td>\n",
       "      <td>550</td>\n",
       "      <td>Saint Petersburg</td>\n",
       "      <td>FL</td>\n",
       "      <td>27.7873</td>\n",
       "      <td>-82.6772</td>\n",
       "      <td>South</td>\n",
       "      <td>0</td>\n",
       "      <td>0</td>\n",
       "      <td>1</td>\n",
       "    </tr>\n",
       "    <tr>\n",
       "      <th>114</th>\n",
       "      <td>1.0</td>\n",
       "      <td>1.0</td>\n",
       "      <td>949.0</td>\n",
       "      <td>625</td>\n",
       "      <td>Tallahassee</td>\n",
       "      <td>FL</td>\n",
       "      <td>30.4601</td>\n",
       "      <td>-84.2714</td>\n",
       "      <td>South</td>\n",
       "      <td>0</td>\n",
       "      <td>1</td>\n",
       "      <td>0</td>\n",
       "    </tr>\n",
       "    <tr>\n",
       "      <th>...</th>\n",
       "      <td>...</td>\n",
       "      <td>...</td>\n",
       "      <td>...</td>\n",
       "      <td>...</td>\n",
       "      <td>...</td>\n",
       "      <td>...</td>\n",
       "      <td>...</td>\n",
       "      <td>...</td>\n",
       "      <td>...</td>\n",
       "      <td>...</td>\n",
       "      <td>...</td>\n",
       "      <td>...</td>\n",
       "    </tr>\n",
       "    <tr>\n",
       "      <th>99795</th>\n",
       "      <td>1.0</td>\n",
       "      <td>1.0</td>\n",
       "      <td>1390.0</td>\n",
       "      <td>848</td>\n",
       "      <td>Jacksonville</td>\n",
       "      <td>FL</td>\n",
       "      <td>30.3034</td>\n",
       "      <td>-81.5127</td>\n",
       "      <td>South</td>\n",
       "      <td>0</td>\n",
       "      <td>0</td>\n",
       "      <td>0</td>\n",
       "    </tr>\n",
       "    <tr>\n",
       "      <th>99799</th>\n",
       "      <td>2.0</td>\n",
       "      <td>2.0</td>\n",
       "      <td>1402.0</td>\n",
       "      <td>1245</td>\n",
       "      <td>Jacksonville</td>\n",
       "      <td>FL</td>\n",
       "      <td>30.3034</td>\n",
       "      <td>-81.5127</td>\n",
       "      <td>South</td>\n",
       "      <td>0</td>\n",
       "      <td>0</td>\n",
       "      <td>0</td>\n",
       "    </tr>\n",
       "    <tr>\n",
       "      <th>99804</th>\n",
       "      <td>1.0</td>\n",
       "      <td>1.0</td>\n",
       "      <td>1550.0</td>\n",
       "      <td>942</td>\n",
       "      <td>Jacksonville</td>\n",
       "      <td>FL</td>\n",
       "      <td>30.3034</td>\n",
       "      <td>-81.5127</td>\n",
       "      <td>South</td>\n",
       "      <td>0</td>\n",
       "      <td>0</td>\n",
       "      <td>0</td>\n",
       "    </tr>\n",
       "    <tr>\n",
       "      <th>99820</th>\n",
       "      <td>1.0</td>\n",
       "      <td>1.0</td>\n",
       "      <td>798.0</td>\n",
       "      <td>650</td>\n",
       "      <td>Jacksonville</td>\n",
       "      <td>FL</td>\n",
       "      <td>30.2254</td>\n",
       "      <td>-81.7579</td>\n",
       "      <td>South</td>\n",
       "      <td>0</td>\n",
       "      <td>0</td>\n",
       "      <td>0</td>\n",
       "    </tr>\n",
       "    <tr>\n",
       "      <th>99822</th>\n",
       "      <td>2.0</td>\n",
       "      <td>2.0</td>\n",
       "      <td>813.0</td>\n",
       "      <td>921</td>\n",
       "      <td>Jacksonville</td>\n",
       "      <td>FL</td>\n",
       "      <td>30.2254</td>\n",
       "      <td>-81.7579</td>\n",
       "      <td>South</td>\n",
       "      <td>0</td>\n",
       "      <td>0</td>\n",
       "      <td>0</td>\n",
       "    </tr>\n",
       "  </tbody>\n",
       "</table>\n",
       "<p>5779 rows × 12 columns</p>\n",
       "</div>"
      ],
      "text/plain": [
       "       bathrooms  bedrooms   price  square_feet          cityname state  \\\n",
       "30           2.0       2.0  1740.0         1600   West Palm Beach    FL   \n",
       "54           1.0       1.0   973.0          509           Orlando    FL   \n",
       "63           2.0       3.0  1499.0         1544      Jacksonville    FL   \n",
       "69           1.0       1.0  1055.0          550  Saint Petersburg    FL   \n",
       "114          1.0       1.0   949.0          625       Tallahassee    FL   \n",
       "...          ...       ...     ...          ...               ...   ...   \n",
       "99795        1.0       1.0  1390.0          848      Jacksonville    FL   \n",
       "99799        2.0       2.0  1402.0         1245      Jacksonville    FL   \n",
       "99804        1.0       1.0  1550.0          942      Jacksonville    FL   \n",
       "99820        1.0       1.0   798.0          650      Jacksonville    FL   \n",
       "99822        2.0       2.0   813.0          921      Jacksonville    FL   \n",
       "\n",
       "       latitude  longitude region  cnt_nearby_hospitals  cnt_nearby_school  \\\n",
       "30      26.7173   -80.1164  South                     0                  0   \n",
       "54      28.5163   -81.3644  South                     0                  0   \n",
       "63      30.2989   -81.6324  South                     0                  0   \n",
       "69      27.7873   -82.6772  South                     0                  0   \n",
       "114     30.4601   -84.2714  South                     0                  1   \n",
       "...         ...        ...    ...                   ...                ...   \n",
       "99795   30.3034   -81.5127  South                     0                  0   \n",
       "99799   30.3034   -81.5127  South                     0                  0   \n",
       "99804   30.3034   -81.5127  South                     0                  0   \n",
       "99820   30.2254   -81.7579  South                     0                  0   \n",
       "99822   30.2254   -81.7579  South                     0                  0   \n",
       "\n",
       "       cnt_nearby_libraries  \n",
       "30                        1  \n",
       "54                        0  \n",
       "63                        0  \n",
       "69                        1  \n",
       "114                       0  \n",
       "...                     ...  \n",
       "99795                     0  \n",
       "99799                     0  \n",
       "99804                     0  \n",
       "99820                     0  \n",
       "99822                     0  \n",
       "\n",
       "[5779 rows x 12 columns]"
      ]
     },
     "execution_count": 64,
     "metadata": {},
     "output_type": "execute_result"
    }
   ],
   "source": [
    "florida"
   ]
  },
  {
   "cell_type": "code",
   "execution_count": 65,
   "id": "49724b51",
   "metadata": {},
   "outputs": [],
   "source": [
    "florida.to_pickle(\"./florida_rent_data.pkl\")"
   ]
  },
  {
   "cell_type": "markdown",
   "id": "7950120e",
   "metadata": {},
   "source": [
    "## Machine Learning"
   ]
  },
  {
   "cell_type": "code",
   "execution_count": 56,
   "id": "f52581a8",
   "metadata": {},
   "outputs": [],
   "source": [
    "apartment_data_numeric = apartment_data.select_dtypes(include='number')"
   ]
  },
  {
   "cell_type": "code",
   "execution_count": 57,
   "id": "6b553566",
   "metadata": {},
   "outputs": [
    {
     "data": {
      "image/png": "[encoded data removed]",
      "text/plain": [
       "<Figure size 1000x1000 with 2 Axes>"
      ]
     },
     "metadata": {},
     "output_type": "display_data"
    }
   ],
   "source": [
    "corr=np.abs(apartment_data_numeric.corr())\n",
    "\n",
    "#Set up mask for triangle representation (so it only shows one side)\n",
    "mask = np.zeros_like(corr, dtype=bool)\n",
    "mask[np.triu_indices_from(mask)] = True\n",
    "\n",
    "# Set up the matplotlib figure\n",
    "f, ax = plt.subplots(figsize=(10, 10))\n",
    "\n",
    "# Generate a custom diverging colormap\n",
    "cmap = sns.diverging_palette(220, 10, as_cmap=True)\n",
    "\n",
    "# Draw the heatmap with the mask and correct aspect ratio\n",
    "sns.heatmap(corr, mask=mask,  vmax=1,square=True, linewidths=.5, cbar_kws={\"shrink\": .5},annot = corr)\n",
    "\n",
    "plt.show()"
   ]
  },
  {
   "cell_type": "code",
   "execution_count": 58,
   "id": "581fec1e",
   "metadata": {},
   "outputs": [],
   "source": [
    "features = apartment_data_numeric.drop(columns = [\"price\"])\n",
    "target = apartment_data_numeric[\"price\"]"
   ]
  },
  {
   "cell_type": "code",
   "execution_count": 59,
   "id": "857295a2",
   "metadata": {},
   "outputs": [],
   "source": [
    "from sklearn.model_selection import train_test_split\n",
    "\n",
    "X_train, X_test, y_train, y_test = train_test_split(features, target, test_size = 0.20, random_state=0)"
   ]
  },
  {
   "cell_type": "code",
   "execution_count": 60,
   "id": "459e593b",
   "metadata": {},
   "outputs": [],
   "source": [
    "from sklearn.neighbors import KNeighborsRegressor"
   ]
  },
  {
   "cell_type": "code",
   "execution_count": 61,
   "id": "342e907c",
   "metadata": {},
   "outputs": [],
   "source": [
    "knn = KNeighborsRegressor(n_neighbors=10)"
   ]
  },
  {
   "cell_type": "code",
   "execution_count": 62,
   "id": "ef7206d0",
   "metadata": {},
   "outputs": [
    {
     "data": {
      "text/html": [
       "<style>#sk-container-id-1 {\n",
       "  /* Definition of color scheme common for light and dark mode */\n",
       "  --sklearn-color-text: black;\n",
       "  --sklearn-color-line: gray;\n",
       "  /* Definition of color scheme for unfitted estimators */\n",
       "  --sklearn-color-unfitted-level-0: #fff5e6;\n",
       "  --sklearn-color-unfitted-level-1: #f6e4d2;\n",
       "  --sklearn-color-unfitted-level-2: #ffe0b3;\n",
       "  --sklearn-color-unfitted-level-3: chocolate;\n",
       "  /* Definition of color scheme for fitted estimators */\n",
       "  --sklearn-color-fitted-level-0: #f0f8ff;\n",
       "  --sklearn-color-fitted-level-1: #d4ebff;\n",
       "  --sklearn-color-fitted-level-2: #b3dbfd;\n",
       "  --sklearn-color-fitted-level-3: cornflowerblue;\n",
       "\n",
       "  /* Specific color for light theme */\n",
       "  --sklearn-color-text-on-default-background: var(--sg-text-color, var(--theme-code-foreground, var(--jp-content-font-color1, black)));\n",
       "  --sklearn-color-background: var(--sg-background-color, var(--theme-background, var(--jp-layout-color0, white)));\n",
       "  --sklearn-color-border-box: var(--sg-text-color, var(--theme-code-foreground, var(--jp-content-font-color1, black)));\n",
       "  --sklearn-color-icon: #696969;\n",
       "\n",
       "  @media (prefers-color-scheme: dark) {\n",
       "    /* Redefinition of color scheme for dark theme */\n",
       "    --sklearn-color-text-on-default-background: var(--sg-text-color, var(--theme-code-foreground, var(--jp-content-font-color1, white)));\n",
       "    --sklearn-color-background: var(--sg-background-color, var(--theme-background, var(--jp-layout-color0, #111)));\n",
       "    --sklearn-color-border-box: var(--sg-text-color, var(--theme-code-foreground, var(--jp-content-font-color1, white)));\n",
       "    --sklearn-color-icon: #878787;\n",
       "  }\n",
       "}\n",
       "\n",
       "#sk-container-id-1 {\n",
       "  color: var(--sklearn-color-text);\n",
       "}\n",
       "\n",
       "#sk-container-id-1 pre {\n",
       "  padding: 0;\n",
       "}\n",
       "\n",
       "#sk-container-id-1 input.sk-hidden--visually {\n",
       "  border: 0;\n",
       "  clip: rect(1px 1px 1px 1px);\n",
       "  clip: rect(1px, 1px, 1px, 1px);\n",
       "  height: 1px;\n",
       "  margin: -1px;\n",
       "  overflow: hidden;\n",
       "  padding: 0;\n",
       "  position: absolute;\n",
       "  width: 1px;\n",
       "}\n",
       "\n",
       "#sk-container-id-1 div.sk-dashed-wrapped {\n",
       "  border: 1px dashed var(--sklearn-color-line);\n",
       "  margin: 0 0.4em 0.5em 0.4em;\n",
       "  box-sizing: border-box;\n",
       "  padding-bottom: 0.4em;\n",
       "  background-color: var(--sklearn-color-background);\n",
       "}\n",
       "\n",
       "#sk-container-id-1 div.sk-container {\n",
       "  /* jupyter's `normalize.less` sets `[hidden] { display: none; }`\n",
       "     but bootstrap.min.css set `[hidden] { display: none !important; }`\n",
       "     so we also need the `!important` here to be able to override the\n",
       "     default hidden behavior on the sphinx rendered scikit-learn.org.\n",
       "     See: https://github.com/scikit-learn/scikit-learn/issues/21755 */\n",
       "  display: inline-block !important;\n",
       "  position: relative;\n",
       "}\n",
       "\n",
       "#sk-container-id-1 div.sk-text-repr-fallback {\n",
       "  display: none;\n",
       "}\n",
       "\n",
       "div.sk-parallel-item,\n",
       "div.sk-serial,\n",
       "div.sk-item {\n",
       "  /* draw centered vertical line to link estimators */\n",
       "  background-image: linear-gradient(var(--sklearn-color-text-on-default-background), var(--sklearn-color-text-on-default-background));\n",
       "  background-size: 2px 100%;\n",
       "  background-repeat: no-repeat;\n",
       "  background-position: center center;\n",
       "}\n",
       "\n",
       "/* Parallel-specific style estimator block */\n",
       "\n",
       "#sk-container-id-1 div.sk-parallel-item::after {\n",
       "  content: \"\";\n",
       "  width: 100%;\n",
       "  border-bottom: 2px solid var(--sklearn-color-text-on-default-background);\n",
       "  flex-grow: 1;\n",
       "}\n",
       "\n",
       "#sk-container-id-1 div.sk-parallel {\n",
       "  display: flex;\n",
       "  align-items: stretch;\n",
       "  justify-content: center;\n",
       "  background-color: var(--sklearn-color-background);\n",
       "  position: relative;\n",
       "}\n",
       "\n",
       "#sk-container-id-1 div.sk-parallel-item {\n",
       "  display: flex;\n",
       "  flex-direction: column;\n",
       "}\n",
       "\n",
       "#sk-container-id-1 div.sk-parallel-item:first-child::after {\n",
       "  align-self: flex-end;\n",
       "  width: 50%;\n",
       "}\n",
       "\n",
       "#sk-container-id-1 div.sk-parallel-item:last-child::after {\n",
       "  align-self: flex-start;\n",
       "  width: 50%;\n",
       "}\n",
       "\n",
       "#sk-container-id-1 div.sk-parallel-item:only-child::after {\n",
       "  width: 0;\n",
       "}\n",
       "\n",
       "/* Serial-specific style estimator block */\n",
       "\n",
       "#sk-container-id-1 div.sk-serial {\n",
       "  display: flex;\n",
       "  flex-direction: column;\n",
       "  align-items: center;\n",
       "  background-color: var(--sklearn-color-background);\n",
       "  padding-right: 1em;\n",
       "  padding-left: 1em;\n",
       "}\n",
       "\n",
       "\n",
       "/* Toggleable style: style used for estimator/Pipeline/ColumnTransformer box that is\n",
       "clickable and can be expanded/collapsed.\n",
       "- Pipeline and ColumnTransformer use this feature and define the default style\n",
       "- Estimators will overwrite some part of the style using the `sk-estimator` class\n",
       "*/\n",
       "\n",
       "/* Pipeline and ColumnTransformer style (default) */\n",
       "\n",
       "#sk-container-id-1 div.sk-toggleable {\n",
       "  /* Default theme specific background. It is overwritten whether we have a\n",
       "  specific estimator or a Pipeline/ColumnTransformer */\n",
       "  background-color: var(--sklearn-color-background);\n",
       "}\n",
       "\n",
       "/* Toggleable label */\n",
       "#sk-container-id-1 label.sk-toggleable__label {\n",
       "  cursor: pointer;\n",
       "  display: block;\n",
       "  width: 100%;\n",
       "  margin-bottom: 0;\n",
       "  padding: 0.5em;\n",
       "  box-sizing: border-box;\n",
       "  text-align: center;\n",
       "}\n",
       "\n",
       "#sk-container-id-1 label.sk-toggleable__label-arrow:before {\n",
       "  /* Arrow on the left of the label */\n",
       "  content: \"▸\";\n",
       "  float: left;\n",
       "  margin-right: 0.25em;\n",
       "  color: var(--sklearn-color-icon);\n",
       "}\n",
       "\n",
       "#sk-container-id-1 label.sk-toggleable__label-arrow:hover:before {\n",
       "  color: var(--sklearn-color-text);\n",
       "}\n",
       "\n",
       "/* Toggleable content - dropdown */\n",
       "\n",
       "#sk-container-id-1 div.sk-toggleable__content {\n",
       "  max-height: 0;\n",
       "  max-width: 0;\n",
       "  overflow: hidden;\n",
       "  text-align: left;\n",
       "  /* unfitted */\n",
       "  background-color: var(--sklearn-color-unfitted-level-0);\n",
       "}\n",
       "\n",
       "#sk-container-id-1 div.sk-toggleable__content.fitted {\n",
       "  /* fitted */\n",
       "  background-color: var(--sklearn-color-fitted-level-0);\n",
       "}\n",
       "\n",
       "#sk-container-id-1 div.sk-toggleable__content pre {\n",
       "  margin: 0.2em;\n",
       "  border-radius: 0.25em;\n",
       "  color: var(--sklearn-color-text);\n",
       "  /* unfitted */\n",
       "  background-color: var(--sklearn-color-unfitted-level-0);\n",
       "}\n",
       "\n",
       "#sk-container-id-1 div.sk-toggleable__content.fitted pre {\n",
       "  /* unfitted */\n",
       "  background-color: var(--sklearn-color-fitted-level-0);\n",
       "}\n",
       "\n",
       "#sk-container-id-1 input.sk-toggleable__control:checked~div.sk-toggleable__content {\n",
       "  /* Expand drop-down */\n",
       "  max-height: 200px;\n",
       "  max-width: 100%;\n",
       "  overflow: auto;\n",
       "}\n",
       "\n",
       "#sk-container-id-1 input.sk-toggleable__control:checked~label.sk-toggleable__label-arrow:before {\n",
       "  content: \"▾\";\n",
       "}\n",
       "\n",
       "/* Pipeline/ColumnTransformer-specific style */\n",
       "\n",
       "#sk-container-id-1 div.sk-label input.sk-toggleable__control:checked~label.sk-toggleable__label {\n",
       "  color: var(--sklearn-color-text);\n",
       "  background-color: var(--sklearn-color-unfitted-level-2);\n",
       "}\n",
       "\n",
       "#sk-container-id-1 div.sk-label.fitted input.sk-toggleable__control:checked~label.sk-toggleable__label {\n",
       "  background-color: var(--sklearn-color-fitted-level-2);\n",
       "}\n",
       "\n",
       "/* Estimator-specific style */\n",
       "\n",
       "/* Colorize estimator box */\n",
       "#sk-container-id-1 div.sk-estimator input.sk-toggleable__control:checked~label.sk-toggleable__label {\n",
       "  /* unfitted */\n",
       "  background-color: var(--sklearn-color-unfitted-level-2);\n",
       "}\n",
       "\n",
       "#sk-container-id-1 div.sk-estimator.fitted input.sk-toggleable__control:checked~label.sk-toggleable__label {\n",
       "  /* fitted */\n",
       "  background-color: var(--sklearn-color-fitted-level-2);\n",
       "}\n",
       "\n",
       "#sk-container-id-1 div.sk-label label.sk-toggleable__label,\n",
       "#sk-container-id-1 div.sk-label label {\n",
       "  /* The background is the default theme color */\n",
       "  color: var(--sklearn-color-text-on-default-background);\n",
       "}\n",
       "\n",
       "/* On hover, darken the color of the background */\n",
       "#sk-container-id-1 div.sk-label:hover label.sk-toggleable__label {\n",
       "  color: var(--sklearn-color-text);\n",
       "  background-color: var(--sklearn-color-unfitted-level-2);\n",
       "}\n",
       "\n",
       "/* Label box, darken color on hover, fitted */\n",
       "#sk-container-id-1 div.sk-label.fitted:hover label.sk-toggleable__label.fitted {\n",
       "  color: var(--sklearn-color-text);\n",
       "  background-color: var(--sklearn-color-fitted-level-2);\n",
       "}\n",
       "\n",
       "/* Estimator label */\n",
       "\n",
       "#sk-container-id-1 div.sk-label label {\n",
       "  font-family: monospace;\n",
       "  font-weight: bold;\n",
       "  display: inline-block;\n",
       "  line-height: 1.2em;\n",
       "}\n",
       "\n",
       "#sk-container-id-1 div.sk-label-container {\n",
       "  text-align: center;\n",
       "}\n",
       "\n",
       "/* Estimator-specific */\n",
       "#sk-container-id-1 div.sk-estimator {\n",
       "  font-family: monospace;\n",
       "  border: 1px dotted var(--sklearn-color-border-box);\n",
       "  border-radius: 0.25em;\n",
       "  box-sizing: border-box;\n",
       "  margin-bottom: 0.5em;\n",
       "  /* unfitted */\n",
       "  background-color: var(--sklearn-color-unfitted-level-0);\n",
       "}\n",
       "\n",
       "#sk-container-id-1 div.sk-estimator.fitted {\n",
       "  /* fitted */\n",
       "  background-color: var(--sklearn-color-fitted-level-0);\n",
       "}\n",
       "\n",
       "/* on hover */\n",
       "#sk-container-id-1 div.sk-estimator:hover {\n",
       "  /* unfitted */\n",
       "  background-color: var(--sklearn-color-unfitted-level-2);\n",
       "}\n",
       "\n",
       "#sk-container-id-1 div.sk-estimator.fitted:hover {\n",
       "  /* fitted */\n",
       "  background-color: var(--sklearn-color-fitted-level-2);\n",
       "}\n",
       "\n",
       "/* Specification for estimator info (e.g. \"i\" and \"?\") */\n",
       "\n",
       "/* Common style for \"i\" and \"?\" */\n",
       "\n",
       ".sk-estimator-doc-link,\n",
       "a:link.sk-estimator-doc-link,\n",
       "a:visited.sk-estimator-doc-link {\n",
       "  float: right;\n",
       "  font-size: smaller;\n",
       "  line-height: 1em;\n",
       "  font-family: monospace;\n",
       "  background-color: var(--sklearn-color-background);\n",
       "  border-radius: 1em;\n",
       "  height: 1em;\n",
       "  width: 1em;\n",
       "  text-decoration: none !important;\n",
       "  margin-left: 1ex;\n",
       "  /* unfitted */\n",
       "  border: var(--sklearn-color-unfitted-level-1) 1pt solid;\n",
       "  color: var(--sklearn-color-unfitted-level-1);\n",
       "}\n",
       "\n",
       ".sk-estimator-doc-link.fitted,\n",
       "a:link.sk-estimator-doc-link.fitted,\n",
       "a:visited.sk-estimator-doc-link.fitted {\n",
       "  /* fitted */\n",
       "  border: var(--sklearn-color-fitted-level-1) 1pt solid;\n",
       "  color: var(--sklearn-color-fitted-level-1);\n",
       "}\n",
       "\n",
       "/* On hover */\n",
       "div.sk-estimator:hover .sk-estimator-doc-link:hover,\n",
       ".sk-estimator-doc-link:hover,\n",
       "div.sk-label-container:hover .sk-estimator-doc-link:hover,\n",
       ".sk-estimator-doc-link:hover {\n",
       "  /* unfitted */\n",
       "  background-color: var(--sklearn-color-unfitted-level-3);\n",
       "  color: var(--sklearn-color-background);\n",
       "  text-decoration: none;\n",
       "}\n",
       "\n",
       "div.sk-estimator.fitted:hover .sk-estimator-doc-link.fitted:hover,\n",
       ".sk-estimator-doc-link.fitted:hover,\n",
       "div.sk-label-container:hover .sk-estimator-doc-link.fitted:hover,\n",
       ".sk-estimator-doc-link.fitted:hover {\n",
       "  /* fitted */\n",
       "  background-color: var(--sklearn-color-fitted-level-3);\n",
       "  color: var(--sklearn-color-background);\n",
       "  text-decoration: none;\n",
       "}\n",
       "\n",
       "/* Span, style for the box shown on hovering the info icon */\n",
       ".sk-estimator-doc-link span {\n",
       "  display: none;\n",
       "  z-index: 9999;\n",
       "  position: relative;\n",
       "  font-weight: normal;\n",
       "  right: .2ex;\n",
       "  padding: .5ex;\n",
       "  margin: .5ex;\n",
       "  width: min-content;\n",
       "  min-width: 20ex;\n",
       "  max-width: 50ex;\n",
       "  color: var(--sklearn-color-text);\n",
       "  box-shadow: 2pt 2pt 4pt #999;\n",
       "  /* unfitted */\n",
       "  background: var(--sklearn-color-unfitted-level-0);\n",
       "  border: .5pt solid var(--sklearn-color-unfitted-level-3);\n",
       "}\n",
       "\n",
       ".sk-estimator-doc-link.fitted span {\n",
       "  /* fitted */\n",
       "  background: var(--sklearn-color-fitted-level-0);\n",
       "  border: var(--sklearn-color-fitted-level-3);\n",
       "}\n",
       "\n",
       ".sk-estimator-doc-link:hover span {\n",
       "  display: block;\n",
       "}\n",
       "\n",
       "/* \"?\"-specific style due to the `<a>` HTML tag */\n",
       "\n",
       "#sk-container-id-1 a.estimator_doc_link {\n",
       "  float: right;\n",
       "  font-size: 1rem;\n",
       "  line-height: 1em;\n",
       "  font-family: monospace;\n",
       "  background-color: var(--sklearn-color-background);\n",
       "  border-radius: 1rem;\n",
       "  height: 1rem;\n",
       "  width: 1rem;\n",
       "  text-decoration: none;\n",
       "  /* unfitted */\n",
       "  color: var(--sklearn-color-unfitted-level-1);\n",
       "  border: var(--sklearn-color-unfitted-level-1) 1pt solid;\n",
       "}\n",
       "\n",
       "#sk-container-id-1 a.estimator_doc_link.fitted {\n",
       "  /* fitted */\n",
       "  border: var(--sklearn-color-fitted-level-1) 1pt solid;\n",
       "  color: var(--sklearn-color-fitted-level-1);\n",
       "}\n",
       "\n",
       "/* On hover */\n",
       "#sk-container-id-1 a.estimator_doc_link:hover {\n",
       "  /* unfitted */\n",
       "  background-color: var(--sklearn-color-unfitted-level-3);\n",
       "  color: var(--sklearn-color-background);\n",
       "  text-decoration: none;\n",
       "}\n",
       "\n",
       "#sk-container-id-1 a.estimator_doc_link.fitted:hover {\n",
       "  /* fitted */\n",
       "  background-color: var(--sklearn-color-fitted-level-3);\n",
       "}\n",
       "</style><div id=\"sk-container-id-1\" class=\"sk-top-container\"><div class=\"sk-text-repr-fallback\"><pre>KNeighborsRegressor(n_neighbors=10)</pre><b>In a Jupyter environment, please rerun this cell to show the HTML representation or trust the notebook. <br />On GitHub, the HTML representation is unable to render, please try loading this page with nbviewer.org.</b></div><div class=\"sk-container\" hidden><div class=\"sk-item\"><div class=\"sk-estimator fitted sk-toggleable\"><input class=\"sk-toggleable__control sk-hidden--visually\" id=\"sk-estimator-id-1\" type=\"checkbox\" checked><label for=\"sk-estimator-id-1\" class=\"sk-toggleable__label fitted sk-toggleable__label-arrow fitted\">&nbsp;&nbsp;KNeighborsRegressor<a class=\"sk-estimator-doc-link fitted\" rel=\"noreferrer\" target=\"_blank\" href=\"https://scikit-learn.org/1.5/modules/generated/sklearn.neighbors.KNeighborsRegressor.html\">?<span>Documentation for KNeighborsRegressor</span></a><span class=\"sk-estimator-doc-link fitted\">i<span>Fitted</span></span></label><div class=\"sk-toggleable__content fitted\"><pre>KNeighborsRegressor(n_neighbors=10)</pre></div> </div></div></div></div>"
      ],
      "text/plain": [
       "KNeighborsRegressor(n_neighbors=10)"
      ]
     },
     "execution_count": 62,
     "metadata": {},
     "output_type": "execute_result"
    }
   ],
   "source": [
    "knn.fit(X_train, y_train)"
   ]
  },
  {
   "cell_type": "code",
   "execution_count": 63,
   "id": "ceaff15f",
   "metadata": {},
   "outputs": [
    {
     "data": {
      "text/plain": [
       "0.49564329749167857"
      ]
     },
     "execution_count": 63,
     "metadata": {},
     "output_type": "execute_result"
    }
   ],
   "source": [
    "knn.score(X_test, y_test)"
   ]
  },
  {
   "cell_type": "code",
   "execution_count": null,
   "id": "380a8689",
   "metadata": {},
   "outputs": [],
   "source": []
  }
 ],
 "metadata": {
  "kernelspec": {
   "display_name": "Python 3 (ipykernel)",
   "language": "python",
   "name": "python3"
  },
  "language_info": {
   "codemirror_mode": {
    "name": "ipython",
    "version": 3
   },
   "file_extension": ".py",
   "mimetype": "text/x-python",
   "name": "python",
   "nbconvert_exporter": "python",
   "pygments_lexer": "ipython3",
   "version": "3.11.9"
  }
 },
 "nbformat": 4,
 "nbformat_minor": 5
}
